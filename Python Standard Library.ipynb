{
 "cells": [
  {
   "cell_type": "markdown",
   "id": "f0157c98",
   "metadata": {},
   "source": [
    "# Built-in Operators"
   ]
  },
  {
   "cell_type": "markdown",
   "id": "11309a8b",
   "metadata": {},
   "source": [
    "## Comparison\n",
    "\n",
    "All empty objects are False and non-empty ones are True. Any non-zero variable is True, and False otherwise. "
   ]
  },
  {
   "cell_type": "code",
   "execution_count": 12,
   "id": "389d45b1",
   "metadata": {},
   "outputs": [
    {
     "name": "stdout",
     "output_type": "stream",
     "text": [
      "bye\n",
      "bye again\n"
     ]
    }
   ],
   "source": [
    "# objects\n",
    "if []:  # try with {},(), and non empty ones\n",
    "    print('hello')\n",
    "else:\n",
    "    print('bye')\n",
    "#values\n",
    "x=0  # try with floats too\n",
    "if x:\n",
    "    print('hello again')\n",
    "else:\n",
    "    print('bye again')"
   ]
  },
  {
   "cell_type": "markdown",
   "id": "b4964473",
   "metadata": {},
   "source": [
    "Logical operators are \n",
    "\n",
    "| operator | meaning |\n",
    "|---|---|\n",
    "|`and` , `or` and `not` | standard boolean | \n",
    "| `in` | belongs to |"
   ]
  },
  {
   "cell_type": "code",
   "execution_count": 18,
   "id": "af9d5d34",
   "metadata": {},
   "outputs": [
    {
     "name": "stdout",
     "output_type": "stream",
     "text": [
      "I'm in\n"
     ]
    }
   ],
   "source": [
    "x = [1,2,3,4,100]\n",
    "if (5 not in x and 1 in x) or (10 in x): \n",
    "    print(\"I'm in\")"
   ]
  },
  {
   "cell_type": "markdown",
   "id": "67bf67e3",
   "metadata": {},
   "source": [
    "## Aggregating function\n",
    "\n",
    "Aggregating functions returns a summary of the given dataset, these are `min(), max(), len()`"
   ]
  },
  {
   "cell_type": "code",
   "execution_count": 28,
   "id": "ec5a6ca5",
   "metadata": {},
   "outputs": [
    {
     "name": "stdout",
     "output_type": "stream",
     "text": [
      "len=5, min=1, max=100, sum=110,  mean=22.0\n"
     ]
    }
   ],
   "source": [
    "print(f'len={len(x)}, min={min(x)}, max={max(x)}, sum={sum(x)},  mean={sum(x)/len(x)}')"
   ]
  },
  {
   "cell_type": "markdown",
   "id": "c99ee783",
   "metadata": {},
   "source": [
    "The `range(start, stop, step)` is generates numbers $x \\in [start : stop)$ with a `step` as increment"
   ]
  },
  {
   "cell_type": "code",
   "execution_count": 31,
   "id": "d30d5ada",
   "metadata": {},
   "outputs": [
    {
     "data": {
      "text/plain": [
       "[5, 11, 17, 23, 29, 35, 41, 47, 53, 59, 65, 71, 77, 83, 89, 95]"
      ]
     },
     "execution_count": 31,
     "metadata": {},
     "output_type": "execute_result"
    }
   ],
   "source": [
    "list(range(5,99,6))"
   ]
  },
  {
   "cell_type": "markdown",
   "id": "58a79408",
   "metadata": {},
   "source": [
    "## Rounding off\n",
    "* __Round off__: Rounding off $d$ decimal place with 5 at $d+1$ place, $d$ becomes $d+1$ if even and remains same otherwise. _e.g. `round(2.175,2)=round(2.165,2)=2.17`_\n",
    "* __absolute value__: $|x\\in \\mathbb{R}| = \\sqrt{x^2} \\in \\mathbb{R}^+$\n",
    "* __Exponent__ : `pow(x,y) =`$x^y$"
   ]
  },
  {
   "cell_type": "code",
   "execution_count": 39,
   "id": "c3e9445f",
   "metadata": {},
   "outputs": [
    {
     "name": "stdout",
     "output_type": "stream",
     "text": [
      "rounding off 2.189 with 2 decimal place is 2.19\n"
     ]
    }
   ],
   "source": [
    "x=2.189  #try x.xx5 conditions and negative numbers too\n",
    "d=2\n",
    "print(f'rounding off {x} with {d} decimal place is {round(x,d)}')"
   ]
  },
  {
   "cell_type": "code",
   "execution_count": 41,
   "id": "06460336",
   "metadata": {},
   "outputs": [
    {
     "name": "stdout",
     "output_type": "stream",
     "text": [
      "|10-6|=|6-10|=4\n"
     ]
    }
   ],
   "source": [
    "# sample code for abs()\n",
    "x=10\n",
    "y=6\n",
    "print(f'|{x}-{y}|=|{y}-{x}|={abs(x-y)}')"
   ]
  },
  {
   "cell_type": "code",
   "execution_count": 42,
   "id": "d8990d94",
   "metadata": {},
   "outputs": [
    {
     "data": {
      "text/plain": [
       "1000000"
      ]
     },
     "execution_count": 42,
     "metadata": {},
     "output_type": "execute_result"
    }
   ],
   "source": [
    "# sample code for pow()\n",
    "pow(x,y)"
   ]
  },
  {
   "cell_type": "markdown",
   "id": "78eccc55",
   "metadata": {},
   "source": [
    "## Sorting in-build data structures"
   ]
  },
  {
   "cell_type": "code",
   "execution_count": 61,
   "id": "4cc9e21f",
   "metadata": {},
   "outputs": [],
   "source": [
    "x = [1,6,8,10,8,5,1,8]"
   ]
  },
  {
   "cell_type": "code",
   "execution_count": 62,
   "id": "26e78b09",
   "metadata": {},
   "outputs": [
    {
     "name": "stdout",
     "output_type": "stream",
     "text": [
      "sorted [1, 6, 8, 10, 8, 5, 1, 8] is [1, 1, 5, 6, 8, 8, 8, 10]\n"
     ]
    }
   ],
   "source": [
    "print(f'sorted {x} is {sorted(x,reverse=False)}') #doesn't change the actual list#\n",
    "                                                  #use sort(x) for inplace sorting "
   ]
  },
  {
   "cell_type": "code",
   "execution_count": 63,
   "id": "10c62ac6",
   "metadata": {},
   "outputs": [
    {
     "name": "stdout",
     "output_type": "stream",
     "text": [
      "before=\t [1, 6, 8, 10, 8, 5, 1, 8]\n",
      "after=\t [1, 1, 5, 6, 8, 8, 8, 10]\n"
     ]
    }
   ],
   "source": [
    "print('before=\\t',x)\n",
    "x.sort(reverse=False)\n",
    "print('after=\\t',x)"
   ]
  },
  {
   "cell_type": "markdown",
   "id": "640d32e2",
   "metadata": {},
   "source": [
    "### Sorting a dictionary "
   ]
  },
  {
   "cell_type": "code",
   "execution_count": 83,
   "id": "43deb432",
   "metadata": {},
   "outputs": [
    {
     "name": "stdout",
     "output_type": "stream",
     "text": [
      "{'computer': 1800, 'phone': 700, 'watch': 120, 'earpods': 120, 'penTab': 70}\n",
      "{'penTab': 70, 'watch': 120, 'earpods': 120, 'phone': 700, 'computer': 1800}\n"
     ]
    }
   ],
   "source": [
    "import operator\n",
    "\n",
    "gadgets = {'computer':1800, 'phone':700, 'watch':120, 'earpods':120, 'penTab':70}\n",
    "print(gadgets)\n",
    "\n",
    "sorted_gadgets = {k:v for k,v in sorted(gadgets.items(),            #[(k1,v1)...(kn,vn)]\n",
    "                                        key=operator.itemgetter(1), # k=0 , v=1\n",
    "                                        reverse=False)              # asc or desc\n",
    "                 }\n",
    "print(sorted_gadgets)"
   ]
  },
  {
   "cell_type": "code",
   "execution_count": 82,
   "id": "5f900353",
   "metadata": {},
   "outputs": [
    {
     "data": {
      "text/plain": [
       "dict_items([('computer', 1800), ('phone', 700), ('watch', 120), ('earpods', 120), ('penTab', 70)])"
      ]
     },
     "execution_count": 82,
     "metadata": {},
     "output_type": "execute_result"
    }
   ],
   "source": [
    "gadgets.items()"
   ]
  },
  {
   "cell_type": "markdown",
   "id": "f7776fc3",
   "metadata": {},
   "source": [
    "## Type of a variable"
   ]
  },
  {
   "cell_type": "code",
   "execution_count": 85,
   "id": "57856ffc",
   "metadata": {},
   "outputs": [
    {
     "name": "stdout",
     "output_type": "stream",
     "text": [
      "<class 'list'>\n",
      "True\n"
     ]
    }
   ],
   "source": [
    "x=[]\n",
    "print(type([])) \n",
    "\n",
    "y={}\n",
    "print(isinstance(y,dict))"
   ]
  },
  {
   "cell_type": "markdown",
   "id": "67a085eb",
   "metadata": {},
   "source": [
    "# Math "
   ]
  },
  {
   "cell_type": "markdown",
   "id": "e698df4e",
   "metadata": {},
   "source": [
    "## Consts and Trigo "
   ]
  },
  {
   "cell_type": "code",
   "execution_count": 113,
   "id": "873ccf97",
   "metadata": {},
   "outputs": [
    {
     "name": "stdout",
     "output_type": "stream",
     "text": [
      " pi=3.141592653589793 \n",
      " e=2.718281828459045 \n",
      " NaN=nan \n",
      " Infinity=inf\n"
     ]
    }
   ],
   "source": [
    "import math\n",
    "\n",
    "## Constants \n",
    "print(f' pi={math.pi} \\n e={math.e} \\n NaN={math.nan} \\n Infinity={math.inf}')"
   ]
  },
  {
   "cell_type": "code",
   "execution_count": 114,
   "id": "75a63cf1",
   "metadata": {},
   "outputs": [
    {
     "name": "stdout",
     "output_type": "stream",
     "text": [
      "\t 0 \t 30 \t 45 \t 60 \t 90\n",
      "--------------------------------------------\n",
      "sin\t0.0\t0.5\t0.71\t0.87\t1.0\t\n",
      "--------------------------------------------\n",
      "cos\t1.0\t0.87\t0.71\t0.5\t0.0\t\n",
      "--------------------------------------------\n",
      "tan\t0.0\t0.58\t1.0\t1.73\t1.633123935319537e+16\t\n",
      "--------------------------------------------\n"
     ]
    }
   ],
   "source": [
    "## triginometry \n",
    "f_dict = {'sin' : lambda x : math.sin(x), \n",
    "          'cos' : lambda x : math.cos(x),\n",
    "          'tan' : lambda x : math.tan(x)}  #collection of trig funcs\n",
    "\n",
    "deg = [0, 30, 45, 60, 90]  # standard angles\n",
    "print('\\t 0 \\t 30 \\t 45 \\t 60 \\t 90')\n",
    "print('--------------------------------------------')\n",
    "for f in f_dict.keys():\n",
    "    print(f,end='\\t')\n",
    "    for d in deg:\n",
    "        r = math.radians(d) # def -> rad\n",
    "        print(round(f_dict[f](r),2),end='\\t')  # calc trig_func(rad)\n",
    "    print('\\n--------------------------------------------')"
   ]
  },
  {
   "cell_type": "code",
   "execution_count": 108,
   "id": "bce9b97b",
   "metadata": {},
   "outputs": [
    {
     "name": "stdout",
     "output_type": "stream",
     "text": [
      "20.8 is bounded by [20 , 21]\n"
     ]
    }
   ],
   "source": [
    "## Ceil and floor\n",
    "x=20.8\n",
    "print(f'{x} is bounded by [{math.floor(x)} , {math.ceil(x)}]')"
   ]
  },
  {
   "cell_type": "markdown",
   "id": "70d3d6bf",
   "metadata": {},
   "source": [
    "## Fact, sqrt and GCD"
   ]
  },
  {
   "cell_type": "code",
   "execution_count": 111,
   "id": "5b4f0fda",
   "metadata": {},
   "outputs": [
    {
     "name": "stdout",
     "output_type": "stream",
     "text": [
      "factorial of 5 is 120\n",
      "sqare root of 25 is 5.0\n",
      "GCD(5,25) is 5\n"
     ]
    }
   ],
   "source": [
    "x=5\n",
    "y=25\n",
    "print(f'factorial of {x} is {math.factorial(x)}')\n",
    "print(f'sqare root of {y} is {math.sqrt(y)}')\n",
    "print(f'GCD({x},{y}) is {math.gcd(x,y)}')"
   ]
  },
  {
   "cell_type": "markdown",
   "id": "41d08d75",
   "metadata": {},
   "source": [
    "## Random"
   ]
  },
  {
   "cell_type": "code",
   "execution_count": 170,
   "id": "92f49883",
   "metadata": {},
   "outputs": [
    {
     "name": "stdout",
     "output_type": "stream",
     "text": [
      "rand b/w [0,1]:  0.022486927350058417\n",
      "rand b/w [a,b]:  7\n",
      "rand b/w [a,b):  5\n",
      "choose 5 from [0, 10, 20, 30, 40, 50, 60, 70, 80, 90] : [90, 10, 30, 40, 60]\n",
      "choose any from [0, 10, 20, 30, 40, 50, 60, 70, 80, 90] : 30\n",
      "after shuffling [90, 0, 20, 60, 50, 40, 10, 30, 70, 80]\n"
     ]
    }
   ],
   "source": [
    "import random \n",
    "\n",
    "print('rand b/w [0,1]: ',random.random())  # random in [0,1]\n",
    "print('rand b/w [a,b]: ',random.randint(1,10)) # random int in [a,b]\n",
    "print('rand b/w [a,b): ',random.randrange(1,10)) # random int in [a,b)\n",
    "\n",
    "S=list(range(0,100,10)) # sample space \n",
    "k=5 \n",
    "print(f'choose {k} from {S} : {random.sample(S,k)}') # sample(S,k) chooses k samples from a space S\n",
    "print(f'choose any from {S} : {random.choice(S)}') # make a random choice form S \n",
    "\n",
    "random.shuffle(S)\n",
    "print(f'after shuffling {S}') # suffle the sample space "
   ]
  },
  {
   "cell_type": "markdown",
   "id": "0257d88f",
   "metadata": {},
   "source": [
    "## Statistics"
   ]
  },
  {
   "cell_type": "code",
   "execution_count": 189,
   "id": "9c8c5e9d",
   "metadata": {},
   "outputs": [
    {
     "name": "stdout",
     "output_type": "stream",
     "text": [
      "Sample space = [917, 68, 725, 135, 96, 42, 901, 866, 121, 891, 629, 578, 415, 513, 519, 255, 751, 869, 823, 831]\n",
      "mean=547.25 , median=603.5, mode=917\n",
      "varience=103554.09210526316, SD=321.7982164420169 \n",
      "Skewness=-0.39893529465644056 , Kurtosis=-1.3815454334648223\n"
     ]
    }
   ],
   "source": [
    "import statistics as stats\n",
    "import scipy.stats as stat # non-standard library \n",
    "\n",
    "a=-100 #lbound\n",
    "b=100  #rbound\n",
    "k=20   #sample_size\n",
    "S = random.sample(population=range(1,1000), k=k)  # sample space of k values from [a,b)\n",
    "\n",
    "print(f'Sample space = {S}')\n",
    "print(f'mean={stats.mean(S)} , median={stats.median(S)}, mode={stats.mode(S)}')\n",
    "print(f'varience={stats.variance(S)}, SD={stats.stdev(S)} ')\n",
    "\n",
    "# skewness and kurtosis in not part of standard python statistics package \n",
    "print(f'Skewness={stat.skew(S)} , Kurtosis={stat.kurtosis(S)}')"
   ]
  },
  {
   "cell_type": "markdown",
   "id": "7ff05fb6",
   "metadata": {},
   "source": [
    "## itertool : Infinite conting, permutation and combination "
   ]
  },
  {
   "cell_type": "code",
   "execution_count": 197,
   "id": "2d8ac193",
   "metadata": {},
   "outputs": [
    {
     "name": "stdout",
     "output_type": "stream",
     "text": [
      "2, 3, 5, 7, 11, 13, 17, 19, 23, 29, 31, 37, 41, 43, 47, 53, 59, 61, 67, 71, 73, 79, 83, 89, 97, 101, 103, 107, 109, 113, 127, 131, 137, 139, 149, 151, 157, 163, 167, 173, 179, 181, 191, 193, 197, 199, 211, 223, 227, 229, 233, 239, 241, 251, 257, 263, 269, 271, 277, 281, 283, 293, 307, 311, 313, 317, 331, 337, 347, 349, 353, 359, 367, 373, 379, 383, 389, 397, 401, 409, 419, 421, 431, 433, 439, 443, 449, 457, 461, 463, 467, 479, 487, 491, 499, 503, 509, 521, 523, 541, 547, 557, 563, 569, 571, 577, 587, 593, 599, 601, 607, 613, 617, 619, 631, 641, 643, 647, 653, 659, 661, 673, 677, 683, 691, 701, 709, 719, 727, 733, 739, 743, 751, 757, 761, 769, 773, 787, 797, 809, 811, 821, 823, 827, 829, 839, 853, 857, 859, 863, 877, 881, 883, 887, 907, 911, 919, 929, 937, 941, 947, 953, 967, 971, 977, 983, 991, 997, 1009, 1013, 1019, 1021, 1031, 1033, 1039, 1049, 1051, 1061, 1063, 1069, 1087, 1091, 1093, 1097, 1103, 1109, 1117, 1123, 1129, 1151, 1153, 1163, 1171, 1181, 1187, 1193, 1201, 1213, 1217, 1223, 1229, 1231, 1237, 1249, 1259, 1277, 1279, 1283, 1289, 1291, 1297, 1301, 1303, 1307, 1319, 1321, 1327, 1361, 1367, 1373, 1381, 1399, 1409, 1423, 1427, 1429, 1433, 1439, 1447, 1451, 1453, 1459, 1471, 1481, 1483, 1487, 1489, 1493, 1499, 1511, 1523, 1531, 1543, 1549, 1553, 1559, 1567, 1571, 1579, 1583, 1597, 1601, 1607, 1609, 1613, 1619, 1621, 1627, 1637, 1657, 1663, 1667, 1669, 1693, 1697, 1699, 1709, 1721, 1723, 1733, 1741, 1747, 1753, 1759, 1777, 1783, 1787, 1789, 1801, 1811, 1823, 1831, 1847, 1861, 1867, 1871, 1873, 1877, 1879, 1889, 1901, 1907, 1913, 1931, 1933, 1949, 1951, 1973, 1979, 1987, 1993, 1997, 1999, 2003, 2011, 2017, 2027, 2029, 2039, 2053, 2063, 2069, 2081, 2083, 2087, 2089, 2099, 2111, 2113, 2129, 2131, 2137, 2141, 2143, 2153, 2161, 2179, 2203, 2207, 2213, 2221, 2237, 2239, 2243, 2251, 2267, 2269, 2273, 2281, 2287, 2293, 2297, 2309, 2311, 2333, 2339, 2341, 2347, 2351, 2357, 2371, 2377, 2381, 2383, 2389, 2393, 2399, 2411, 2417, 2423, 2437, 2441, 2447, 2459, 2467, 2473, 2477, 2503, 2521, 2531, 2539, 2543, 2549, 2551, 2557, 2579, 2591, 2593, 2609, 2617, 2621, 2633, 2647, 2657, 2659, 2663, 2671, 2677, 2683, 2687, 2689, 2693, 2699, 2707, 2711, 2713, 2719, 2729, 2731, 2741, 2749, 2753, 2767, 2777, 2789, 2791, 2797, 2801, 2803, 2819, 2833, 2837, 2843, 2851, 2857, 2861, 2879, 2887, 2897, 2903, 2909, 2917, 2927, 2939, 2953, 2957, 2963, 2969, 2971, 2999, 3001, 3011, 3019, 3023, 3037, 3041, 3049, 3061, 3067, 3079, 3083, 3089, 3109, 3119, 3121, 3137, 3163, 3167, 3169, 3181, 3187, 3191, 3203, 3209, 3217, 3221, 3229, 3251, 3253, 3257, 3259, 3271, 3299, 3301, 3307, 3313, 3319, 3323, 3329, 3331, 3343, 3347, 3359, 3361, 3371, 3373, 3389, 3391, 3407, 3413, 3433, 3449, 3457, 3461, 3463, 3467, 3469, 3491, 3499, 3511, 3517, 3527, 3529, 3533, 3539, 3541, 3547, 3557, 3559, 3571, 3581, 3583, 3593, 3607, 3613, 3617, 3623, 3631, 3637, 3643, 3659, 3671, 3673, 3677, 3691, 3697, 3701, 3709, 3719, 3727, 3733, 3739, 3761, 3767, 3769, 3779, 3793, 3797, 3803, 3821, 3823, 3833, 3847, 3851, 3853, 3863, 3877, 3881, 3889, 3907, 3911, 3917, 3919, 3923, 3929, 3931, 3943, 3947, 3967, 3989, 4001, 4003, 4007, 4013, 4019, 4021, 4027, 4049, 4051, 4057, 4073, 4079, 4091, 4093, 4099, 4111, 4127, 4129, 4133, 4139, 4153, 4157, 4159, 4177, 4201, 4211, 4217, 4219, 4229, 4231, 4241, 4243, 4253, 4259, 4261, 4271, 4273, 4283, 4289, 4297, 4327, 4337, 4339, 4349, 4357, 4363, 4373, 4391, 4397, 4409, 4421, 4423, 4441, 4447, 4451, 4457, 4463, 4481, 4483, 4493, 4507, 4513, 4517, 4519, 4523, 4547, 4549, 4561, 4567, 4583, 4591, 4597, 4603, 4621, 4637, 4639, 4643, 4649, 4651, 4657, 4663, 4673, 4679, 4691, 4703, 4721, 4723, 4729, 4733, 4751, 4759, 4783, 4787, 4789, 4793, 4799, 4801, 4813, 4817, 4831, 4861, 4871, 4877, 4889, 4903, 4909, 4919, 4931, 4933, 4937, 4943, 4951, 4957, 4967, 4969, 4973, 4987, 4993, 4999, 5003, 5009, 5011, 5021, 5023, 5039, 5051, 5059, 5077, 5081, 5087, 5099, 5101, 5107, 5113, 5119, 5147, 5153, 5167, 5171, 5179, 5189, 5197, 5209, 5227, 5231, 5233, 5237, 5261, 5273, 5279, 5281, 5297, 5303, 5309, 5323, 5333, 5347, 5351, 5381, 5387, 5393, 5399, 5407, 5413, 5417, 5419, 5431, 5437, 5441, 5443, 5449, 5471, 5477, 5479, 5483, 5501, 5503, 5507, 5519, 5521, 5527, 5531, 5557, 5563, 5569, 5573, 5581, 5591, 5623, 5639, 5641, 5647, 5651, 5653, 5657, 5659, 5669, 5683, 5689, 5693, 5701, 5711, 5717, 5737, 5741, 5743, 5749, 5779, 5783, 5791, 5801, 5807, 5813, 5821, 5827, 5839, 5843, 5849, 5851, 5857, 5861, 5867, 5869, 5879, 5881, 5897, 5903, 5923, 5927, 5939, 5953, 5981, 5987, 6007, 6011, 6029, 6037, 6043, 6047, 6053, 6067, 6073, 6079, 6089, 6091, 6101, 6113, 6121, 6131, 6133, 6143, 6151, 6163, 6173, 6197, 6199, 6203, 6211, 6217, 6221, 6229, 6247, 6257, 6263, 6269, 6271, 6277, 6287, 6299, 6301, 6311, 6317, 6323, 6329, 6337, 6343, 6353, 6359, 6361, 6367, 6373, 6379, 6389, 6397, 6421, 6427, 6449, 6451, 6469, 6473, 6481, 6491, 6521, 6529, 6547, 6551, 6553, 6563, 6569, 6571, 6577, 6581, 6599, 6607, 6619, 6637, 6653, 6659, 6661, 6673, 6679, 6689, 6691, 6701, 6703, 6709, 6719, 6733, 6737, 6761, 6763, 6779, 6781, 6791, 6793, 6803, 6823, 6827, 6829, 6833, 6841, 6857, 6863, 6869, 6871, 6883, 6899, 6907, 6911, 6917, 6947, 6949, 6959, 6961, 6967, 6971, 6977, 6983, 6991, 6997, 7001, 7013, 7019, 7027, 7039, 7043, 7057, 7069, 7079, 7103, 7109, 7121, 7127, 7129, 7151, 7159, 7177, 7187, 7193, 7207, 7211, 7213, 7219, 7229, 7237, 7243, 7247, 7253, 7283, 7297, 7307, 7309, 7321, 7331, 7333, 7349, 7351, 7369, 7393, 7411, 7417, 7433, 7451, 7457, 7459, 7477, 7481, 7487, 7489, 7499, 7507, 7517, 7523, 7529, 7537, 7541, 7547, 7549, 7559, 7561, 7573, 7577, 7583, 7589, 7591, 7603, 7607, 7621, 7639, 7643, 7649, 7669, 7673, 7681, 7687, 7691, 7699, 7703, 7717, 7723, 7727, 7741, 7753, 7757, 7759, 7789, 7793, 7817, 7823, 7829, 7841, 7853, 7867, 7873, 7877, 7879, 7883, 7901, 7907, 7919, 7927, 7933, 7937, 7949, 7951, 7963, 7993, 8009, 8011, 8017, 8039, 8053, 8059, 8069, 8081, 8087, 8089, 8093, 8101, 8111, 8117, 8123, 8147, 8161, 8167, 8171, 8179, 8191, 8209, 8219, 8221, 8231, 8233, 8237, 8243, 8263, 8269, 8273, 8287, 8291, 8293, 8297, 8311, 8317, 8329, 8353, 8363, 8369, 8377, 8387, 8389, 8419, 8423, 8429, 8431, 8443, 8447, 8461, 8467, 8501, 8513, 8521, 8527, 8537, 8539, 8543, 8563, 8573, 8581, 8597, 8599, 8609, 8623, 8627, 8629, 8641, 8647, 8663, 8669, 8677, 8681, 8689, 8693, 8699, 8707, 8713, 8719, \n",
      " Done !!\n"
     ]
    }
   ],
   "source": [
    "import itertools\n",
    "import sympy   # not a standard library \n",
    "import time\n",
    "\n",
    "T=0.1\n",
    "#count first n prime numbers for next T seconds\n",
    "t = time.time()\n",
    "for x in itertools.count(start=2, step=1): # count indefinitely from given value\n",
    "    if sympy.isprime(x):     # tests if x is a prime \n",
    "        print(x, end=', ')  \n",
    "    if time.time() - t >= T: # breaks if timer expires\n",
    "        break\n",
    "print('\\n Done !!')"
   ]
  },
  {
   "cell_type": "code",
   "execution_count": 202,
   "id": "43d3fab8",
   "metadata": {},
   "outputs": [
    {
     "name": "stdout",
     "output_type": "stream",
     "text": [
      "MONDAY MONDAY MONDAY MONDAY MONDAY MONDAY MONDAY MONDAY MONDAY MONDAY MONDAY MONDAY MONDAY MONDAY MONDAY MONDAY MONDAY MONDAY MONDAY MONDAY MONDAY MONDAY MONDAY MONDAY MONDAY MONDAY MONDAY MONDAY MONDAY MONDAY MONDAY MONDAY MONDAY MONDAY MONDAY MONDAY MONDAY MONDAY MONDAY MONDAY MONDAY MONDAY MONDAY MONDAY MONDAY MONDAY MONDAY MONDAY MONDAY MONDAY MONDAY MONDAY MONDAY MONDAY MONDAY MONDAY MONDAY MONDAY MONDAY MONDAY MONDAY MONDAY MONDAY MONDAY MONDAY MONDAY MONDAY MONDAY MONDAY MONDAY MONDAY MONDAY MONDAY MONDAY MONDAY MONDAY MONDAY MONDAY MONDAY MONDAY MONDAY MONDAY MONDAY MONDAY MONDAY MONDAY MONDAY MONDAY MONDAY MONDAY MONDAY MONDAY MONDAY MONDAY MONDAY MONDAY MONDAY MONDAY MONDAY MONDAY MONDAY MONDAY MONDAY MONDAY MONDAY MONDAY MONDAY MONDAY MONDAY MONDAY MONDAY MONDAY MONDAY MONDAY MONDAY MONDAY MONDAY MONDAY MONDAY MONDAY MONDAY MONDAY MONDAY MONDAY MONDAY MONDAY MONDAY MONDAY MONDAY MONDAY MONDAY MONDAY MONDAY MONDAY MONDAY MONDAY MONDAY MONDAY MONDAY MONDAY MONDAY MONDAY MONDAY MONDAY MONDAY MONDAY MONDAY MONDAY MONDAY MONDAY MONDAY MONDAY MONDAY MONDAY MONDAY MONDAY MONDAY MONDAY MONDAY MONDAY MONDAY MONDAY MONDAY MONDAY MONDAY MONDAY MONDAY MONDAY MONDAY MONDAY MONDAY MONDAY MONDAY MONDAY MONDAY MONDAY MONDAY MONDAY MONDAY MONDAY MONDAY MONDAY MONDAY MONDAY MONDAY MONDAY MONDAY MONDAY MONDAY MONDAY MONDAY MONDAY MONDAY MONDAY MONDAY MONDAY MONDAY MO\n",
      "Done!\n"
     ]
    }
   ],
   "source": [
    "#Create a cycle generator \n",
    "keyward='MONDAY'\n",
    "T=0.1\n",
    "t=time.time()\n",
    "c=1  # counting char and put a space when it matches len of the kw\n",
    "for x in itertools.cycle(keyward): # repeats keywards char wise\n",
    "    if c == 0: \n",
    "        print(x,end=' ')\n",
    "    else:\n",
    "        print(x,end='')\n",
    "    c = (c+1)%len(keyward)  # boundiung count to reach infinity \n",
    "    if time.time()-t >= T:\n",
    "        break\n",
    "print('\\nDone!')"
   ]
  },
  {
   "cell_type": "code",
   "execution_count": 203,
   "id": "0192b5bc",
   "metadata": {},
   "outputs": [
    {
     "name": "stdout",
     "output_type": "stream",
     "text": [
      "XXXXXXXXXXXXXXXXXXXXXXXXXXXXXXXXXXXXXXXXXXXXXXXXXXXXXXXXXXXXXXXXXXXXXXXXXXXXXXXXXXXXXXXXXXXXXXXXXXXXXXXXXXXXXXXXXXXXXXXXXXXXXXXXXXXXXXXXXXXXXXXXXXXXXXXXXXXXXXXXXXXXXXXXXXXXXXXXXXXXXXXXXXXXXXXXXXXXXXXXXXXXXXXXXXXXXXXXXXXXXXXXXXXXXXXXXXXXXXXXXXXXXXXXXXXXXXXXXXXXXXXXXXXXXXXXXXXXXXXXXXXXXXXXXXXXXXXXXXXXXXXXXXXXXXXXXXXXXXXXXXXXXXXXXXXXXXXXXXXXXXXXXXXXXXXXXXXXXXXXXXXXXXXXXXXXXXXXXXXXXXXXXXXXXXXXXXXXXXXXXXXXXXXXXXXXXXXXXXXXXXXXXXXXXXXXXXXXXXXXXXXXXXXXXXXXXXXXXXXXXXXXXXXXXXXXXXXXXXXXXXXXXXXXXXXXXXXXXXXXXXXXXXXXXXXXXXXXXXXXXXXXXXXXXXXXXXXXXXXXXXXXXXXXXXXXXXXXXXXXXXXXXXXXXXXXXXXXXXXXXXXXXXXXXXXXXXXXXXXXXXXXXXXXXXXXXXXXXXXXXXXXXXXXXXXXXXXXXXXXXXXXXXXXXXXXXXXXXXXXXXXXXXXXXXXXXXXXXXXXXXXXXXXXXXXXXXXXXXXXXXXXXXXXXXXXXXXXXXXXXXXXXXXXXXXXXXXXXXXXXXXXXXXXXXXXXXXXXXXXXXXXXXXXXXXXXXXXXXXXXXXXXXXXXXXXXXXXXXXXXXXXXXXXXXXXXXXXXXXXXXXXXXXXXXXXXXXXXXXXXXXXXXXXXXXXXXXXXXXXXXXXXXXXXXXXXXXXXXXXXXXXXXXXXXXXXXXXXXXXXXXXXXXXXXXXXXXXXXXXXXXXXXXXXXXXXXXXXXXXXXXXXXXXXXXXXXXXXXXXXXXXXXXXXXXXXXXXXXXXXXXXXXXXXXXXXXXXXXXXXXXXXXXXXXXXXXXXXXXXXXXXX"
     ]
    }
   ],
   "source": [
    "# Repeat something indefinitely \n",
    "t=time.time()\n",
    "T=0.1\n",
    "for i in itertools.repeat('X'):\n",
    "    print(i,end='')\n",
    "    if time.time() - t >= T:\n",
    "        break"
   ]
  },
  {
   "cell_type": "code",
   "execution_count": 232,
   "id": "538f0cac",
   "metadata": {},
   "outputs": [
    {
     "name": "stdout",
     "output_type": "stream",
     "text": [
      "Enter a small string: dell\n",
      "\n",
      "Count \t text \t MD5 hash\n",
      "-------------------------------------------------\n",
      "1 \t dell \t a3d24b555bc2ee180607ef34377d8996\n",
      "2 \t dell \t a3d24b555bc2ee180607ef34377d8996\n",
      "3 \t dlel \t 02a1aac26bec177b0b6d308541e88c8c\n",
      "4 \t dlle \t 470551bceb683062b2ee712a108f22fc\n",
      "5 \t dlel \t 02a1aac26bec177b0b6d308541e88c8c\n",
      "6 \t dlle \t 470551bceb683062b2ee712a108f22fc\n",
      "7 \t edll \t 782a6a995b00d4ee75c63747a116975f\n",
      "8 \t edll \t 782a6a995b00d4ee75c63747a116975f\n",
      "9 \t eldl \t 555f83e0860d13352ba1ff8b0a5fa0b8\n",
      "10 \t elld \t 140106aabd00ea6911e30b4be5d3c209\n",
      "11 \t eldl \t 555f83e0860d13352ba1ff8b0a5fa0b8\n",
      "12 \t elld \t 140106aabd00ea6911e30b4be5d3c209\n",
      "13 \t ldel \t 5b94448b21a451237f2afc7baf585e8a\n",
      "14 \t ldle \t fe63efcb84aaf72e263bf7f7ad27df48\n",
      "15 \t ledl \t 970297a758078469759ed077f288ce81\n",
      "16 \t leld \t cd3d5c9f79e63505c948ef5884c850cf\n",
      "17 \t llde \t 6c3c5858452ceb4c4b646a33861d654d\n",
      "18 \t lled \t 24c5f3586afe7eee42036127cf73d709\n",
      "19 \t ldel \t 5b94448b21a451237f2afc7baf585e8a\n",
      "20 \t ldle \t fe63efcb84aaf72e263bf7f7ad27df48\n",
      "21 \t ledl \t 970297a758078469759ed077f288ce81\n",
      "22 \t leld \t cd3d5c9f79e63505c948ef5884c850cf\n",
      "23 \t llde \t 6c3c5858452ceb4c4b646a33861d654d\n",
      "24 \t lled \t 24c5f3586afe7eee42036127cf73d709\n"
     ]
    }
   ],
   "source": [
    "# Create a key-chain generator  \n",
    "import operator\n",
    "from functools import reduce  \n",
    "import hashlib\n",
    "\n",
    "kw = input('Enter a small string: ')\n",
    "c=0\n",
    "print('\\nCount \\t text \\t MD5 hash')\n",
    "print('-------------------------------------------------')\n",
    "for i in itertools.permutations(kw):\n",
    "    s=reduce(operator.add, list(i))\n",
    "    print(f'{c+1} \\t {s} \\t {hashlib.md5(str.encode(s)).hexdigest()}')\n",
    "    c+=1"
   ]
  },
  {
   "cell_type": "code",
   "execution_count": 261,
   "id": "adece24d",
   "metadata": {},
   "outputs": [
    {
     "name": "stdout",
     "output_type": "stream",
     "text": [
      "Enter a small password (lowecase only):admz\n",
      "Password is stored as : 3f1c98f14810c3ef2d767e7cf502d2fb\n",
      "password is admz\n",
      "took 0.00868844985961914 seconds\n"
     ]
    }
   ],
   "source": [
    "import string\n",
    "\n",
    "passwd = input('Enter a small password (lowecase only):')\n",
    "md_pass = hashlib.md5(str.encode(passwd)).hexdigest()\n",
    "print(f'Password is stored as : {md_pass}')\n",
    "\n",
    "## we assume the hash & length of the password is compromised but not the text itself\n",
    "t=time.time()\n",
    "for i in itertools.combinations_with_replacement(list(string.ascii_lowercase),len(passwd)):\n",
    "    s=(reduce(operator.add, list(i))) # creating string from combinations\n",
    "    #print(s)\n",
    "    if hashlib.md5(str.encode(s)).hexdigest() == md_pass:\n",
    "        print(f'password is {s}')\n",
    "        break\n",
    "print(f'took {time.time()-t} seconds')"
   ]
  },
  {
   "cell_type": "code",
   "execution_count": 298,
   "id": "a53cd4b0",
   "metadata": {},
   "outputs": [
    {
     "name": "stdout",
     "output_type": "stream",
     "text": [
      "set     \t: {1, 5, 9} \n",
      "powerset \t: [set(), {1}, {5}, {9}, {1, 5}, {1, 9}, {9, 5}, {1, 5, 9}]\n"
     ]
    }
   ],
   "source": [
    "# Finding power set \n",
    "import itertools\n",
    "s={1,5,9}\n",
    "p=[]\n",
    "for r in range(len(s)+1):\n",
    "    for i in itertools.combinations(list(s),r):\n",
    "        p.append(set(i))\n",
    "print(f'set     \\t: {s} \\npowerset \\t: {p}')"
   ]
  },
  {
   "cell_type": "markdown",
   "id": "026faa3e",
   "metadata": {},
   "source": [
    "# Inoput / Output"
   ]
  },
  {
   "cell_type": "markdown",
   "id": "41c1e359",
   "metadata": {},
   "source": [
    "## Command Line Argument "
   ]
  },
  {
   "cell_type": "code",
   "execution_count": 305,
   "id": "8754c239",
   "metadata": {},
   "outputs": [
    {
     "ename": "IndexError",
     "evalue": "list index out of range",
     "output_type": "error",
     "traceback": [
      "\u001b[0;31m---------------------------------------------------------------------------\u001b[0m",
      "\u001b[0;31mIndexError\u001b[0m                                Traceback (most recent call last)",
      "\u001b[0;32m<ipython-input-305-3932a071175b>\u001b[0m in \u001b[0;36m<module>\u001b[0;34m\u001b[0m\n\u001b[1;32m      2\u001b[0m \u001b[0;32mimport\u001b[0m \u001b[0msys\u001b[0m\u001b[0;34m\u001b[0m\u001b[0;34m\u001b[0m\u001b[0m\n\u001b[1;32m      3\u001b[0m \u001b[0;34m\u001b[0m\u001b[0m\n\u001b[0;32m----> 4\u001b[0;31m \u001b[0msys\u001b[0m\u001b[0;34m.\u001b[0m\u001b[0margv\u001b[0m\u001b[0;34m.\u001b[0m\u001b[0mremove\u001b[0m\u001b[0;34m(\u001b[0m\u001b[0msys\u001b[0m\u001b[0;34m.\u001b[0m\u001b[0margv\u001b[0m\u001b[0;34m[\u001b[0m\u001b[0;36m0\u001b[0m\u001b[0;34m]\u001b[0m\u001b[0;34m)\u001b[0m \u001b[0;31m#removes the filename from list\u001b[0m\u001b[0;34m\u001b[0m\u001b[0;34m\u001b[0m\u001b[0m\n\u001b[0m\u001b[1;32m      5\u001b[0m \u001b[0;32mfor\u001b[0m \u001b[0mi\u001b[0m \u001b[0;32min\u001b[0m \u001b[0mrange\u001b[0m\u001b[0;34m(\u001b[0m\u001b[0mlen\u001b[0m\u001b[0;34m(\u001b[0m\u001b[0msys\u001b[0m\u001b[0;34m.\u001b[0m\u001b[0margv\u001b[0m\u001b[0;34m)\u001b[0m\u001b[0;34m)\u001b[0m\u001b[0;34m:\u001b[0m\u001b[0;34m\u001b[0m\u001b[0;34m\u001b[0m\u001b[0m\n\u001b[1;32m      6\u001b[0m     \u001b[0msys\u001b[0m\u001b[0;34m.\u001b[0m\u001b[0margv\u001b[0m\u001b[0;34m[\u001b[0m\u001b[0mi\u001b[0m\u001b[0;34m]\u001b[0m\u001b[0;34m=\u001b[0m\u001b[0mint\u001b[0m\u001b[0;34m(\u001b[0m\u001b[0msys\u001b[0m\u001b[0;34m.\u001b[0m\u001b[0margv\u001b[0m\u001b[0;34m[\u001b[0m\u001b[0mi\u001b[0m\u001b[0;34m]\u001b[0m\u001b[0;34m)\u001b[0m\u001b[0;34m\u001b[0m\u001b[0;34m\u001b[0m\u001b[0m\n",
      "\u001b[0;31mIndexError\u001b[0m: list index out of range"
     ]
    }
   ],
   "source": [
    "# write a program to print the sum of the CLAs\n",
    "import sys\n",
    "\n",
    "sys.argv.remove(sys.argv[0]) #removes the filename from list \n",
    "for i in range(len(sys.argv)):\n",
    "    sys.argv[i]=int(sys.argv[i])\n",
    "    print(sys.argv[i],end=' ')\n",
    "print(f'\\nsum = {sum(sys.argv)}')\n",
    "\n",
    "# Ignore the error below, as the code hasn't run yet argv[] is empty"
   ]
  },
  {
   "cell_type": "code",
   "execution_count": 309,
   "id": "1d858218",
   "metadata": {},
   "outputs": [
    {
     "name": "stdout",
     "output_type": "stream",
     "text": [
      "Enter filename: test.py\n",
      "Enter cell id of your code: 305\n",
      "Enter CLA inputs: 2 6 7\n",
      "\n",
      "File...\n",
      "# write a program to print the sum of the CLAs\n",
      "import sys\n",
      "\n",
      "sys.argv.remove(sys.argv[0]) #removes the filename from list \n",
      "for i in range(len(sys.argv)):\n",
      "    sys.argv[i]=int(sys.argv[i])\n",
      "    print(sys.argv[i],end=' ')\n",
      "print(f'\\nsum = {sum(sys.argv)}')\n",
      "\n",
      "Output...\n",
      "2 6 7 \n",
      "sum = 15\n",
      "\n",
      "Removing...\n"
     ]
    }
   ],
   "source": [
    "# running CLA code from cell\n",
    "fname=input('Enter filename: ')\n",
    "cell=int(input('Enter cell id of your code: '))\n",
    "cla = input('Enter CLA inputs: ')\n",
    "\n",
    "# create a file locally and copy the cell content to it\n",
    "with open(fname,'w') as fp:\n",
    "    for l in _ih[cell].split('\\n'):\n",
    "        fp.write(l+'\\n')\n",
    "\n",
    "# show the file content to confirm \n",
    "print('\\nFile...')\n",
    "!cat {fname}\n",
    "\n",
    "# run the file using python3 with CLA\n",
    "print('\\nOutput...')\n",
    "!python3 {fname} {cla}\n",
    "\n",
    "#remove the file\n",
    "print('\\nRemoving...')\n",
    "!rm {fname}"
   ]
  },
  {
   "cell_type": "code",
   "execution_count": 284,
   "id": "dd83308a",
   "metadata": {},
   "outputs": [
    {
     "name": "stdout",
     "output_type": "stream",
     "text": [
      "abc\r\n"
     ]
    }
   ],
   "source": [
    "x='abc'\n",
    "!echo {x}"
   ]
  },
  {
   "cell_type": "code",
   "execution_count": 286,
   "id": "48ef4086",
   "metadata": {},
   "outputs": [
    {
     "data": {
      "text/plain": [
       "\"x='abc'\\nget_ipython().system('echo {x}')\""
      ]
     },
     "execution_count": 286,
     "metadata": {},
     "output_type": "execute_result"
    }
   ],
   "source": [
    "_ih[284]"
   ]
  },
  {
   "cell_type": "code",
   "execution_count": null,
   "id": "57eec504",
   "metadata": {},
   "outputs": [],
   "source": []
  }
 ],
 "metadata": {
  "kernelspec": {
   "display_name": "Python 3",
   "language": "python",
   "name": "python3"
  },
  "language_info": {
   "codemirror_mode": {
    "name": "ipython",
    "version": 3
   },
   "file_extension": ".py",
   "mimetype": "text/x-python",
   "name": "python",
   "nbconvert_exporter": "python",
   "pygments_lexer": "ipython3",
   "version": "3.8.8"
  }
 },
 "nbformat": 4,
 "nbformat_minor": 5
}
