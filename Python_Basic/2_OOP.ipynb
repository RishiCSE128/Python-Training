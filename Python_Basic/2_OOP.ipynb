{
 "cells": [
  {
   "cell_type": "markdown",
   "metadata": {},
   "source": [
    "# Object oriented programming in python\n",
    "In this tutorial, we'll discuss the OOP features in python with the following concepts. \n",
    "1. OOP basics in Python\n",
    "2. Inheritance and Composition\n",
    "3. Magic Object method\n",
    "4. Data classes \n",
    "\n",
    "## prerequisites\n",
    "This course presumes you to have the basic understanding of the following topics \n",
    "1. IDE (VSCode, Pycharm etc.)\n",
    "2. Fundamentals of Python3 language \n",
    "3. Basic OOP principles \n",
    "\n",
    "Have your development environment ready with IDE and the language (e.g. VSCode + Python3.6 or above + python extension). Check your python version using the following command in the shell. \n",
    "\n",
    "```\n",
    "python --version \n",
    "```"
   ]
  },
  {
   "cell_type": "markdown",
   "metadata": {},
   "source": [
    "# 1. OOP with python"
   ]
  },
  {
   "cell_type": "markdown",
   "metadata": {},
   "source": [
    "## 1.1. OOP refresher\n",
    "* In Python everything is an object. However you might code your logic using pure __Procedural__ manner, i.e. without using any explicit OOP design. However, when the logic is too complex, it's advised to use OOP to make your code more __manageable, organized and scalable__. \n",
    "* OOP lets grouping of Data and Methods together. \n",
    "* OOP helps __Modularity__ which helps updating your code with minimal disturbance to the rest of code in isolation.\n",
    "\n",
    "__Some basic OOP terms__\n",
    "\n",
    "| Terms | Meaning |\n",
    "|---|---|\n",
    "|Class | Template of an object |\n",
    "|Method| Member function of a Class | \n",
    "|Attributes | member variables of a Class | \n",
    "|Object | An instance of a Class | \n",
    "|Inheritance | Organizing classes in a hierarchical fashion by reusing members from parental Classes |\n",
    "|Composition | Means of building complex objects out of other objects |   "
   ]
  },
  {
   "cell_type": "markdown",
   "metadata": {},
   "source": [
    "## 1.2. Basic Class definition "
   ]
  },
  {
   "cell_type": "markdown",
   "metadata": {},
   "source": [
    "The following code shows the building of a simple Python Class in instantiating it. "
   ]
  },
  {
   "cell_type": "code",
   "execution_count": 2,
   "metadata": {},
   "outputs": [
    {
     "name": "stdout",
     "output_type": "stream",
     "text": [
      "book name = Learning Python\n"
     ]
    }
   ],
   "source": [
    "class Book:    # declairing a class \n",
    "    #overriding the default constructor __init__(self) \n",
    "    def __init__(self, title):  # self is a mandatory parameter which is the ref of the obj (e.g. this* )\n",
    "        self.title = title      # self.title is the member variable and title is the argument\n",
    "\n",
    "b1 = Book(title='Learning Python')  # instantiate b1 as an object of Book class \n",
    "print(f'book name = {b1.title}') # accessing the attribute "
   ]
  },
  {
   "cell_type": "markdown",
   "metadata": {},
   "source": [
    "## 1.3. Instance Methods and attributes \n",
    "The following code modifies the Book class to make it more robust \n",
    "1. it adds some new attributes: id, author, pages and price \n",
    "2. the `id` attribute is a written as `_id` which indicates the user to use it as a private variable. Programs can access it but it is not supposed to be changed. Python does not have a mechanism to declaring a variable as private like C++ or Java. the `_id` variable gets a unique random ID `BOOK_XXX` upon instantiating the object.\n",
    "3. There is another variable `__secret`, which will have a similar ID `SEC_XXX` but it is only accessible by the class members. Any attempt of accessing it from outside the class will through an error. Python internally alters the name of aby variable that is prefixed by `__` so that externally it can't be accessed the process is called __Name Mangling__. This also prevents any accidental override by sub-classes. However, you can access such variable by prefixing `_ClassName` (e.g. `_Book__secret` in this case).\n",
    "4. The `set_data()` method allows the user to alter the attributes of an already existing object. That said, `_id` not subject to alter for obvious reasons. The method must take only the attribute to alter, rest should remain unchanged. "
   ]
  },
  {
   "cell_type": "code",
   "execution_count": 20,
   "metadata": {},
   "outputs": [],
   "source": [
    "import random\n",
    "\n",
    "class Book:    # declairing a class \n",
    "    def __init__(self, title, author, pages, price):  \n",
    "        # lets add some more attributes\n",
    "        self.__secret = 'SEC_'+str(random.randint(100,999)) \n",
    "        self._id    = 'BOOK_'+str(random.randint(100,999))  # adds a private ID attribute \n",
    "        self.title  = title     \n",
    "        self.author = author\n",
    "        self.pages  = pages \n",
    "        self.price  = price\n",
    "    \n",
    "    # returns the book details in a dict format\n",
    "    def get_details(self):    # all methods takes self as a mandatory input \n",
    "        return {\n",
    "            'ID' : self._id,\n",
    "            'title' : self.title,\n",
    "            'author': self.author,\n",
    "            'pages' : self.pages,\n",
    "            'price' : self.price\n",
    "        } \n",
    "\n",
    "    # changes the book details, notice it does'nt change the ID \n",
    "    def set_data(self, title=None, author=None, pages=None, price=None):  \n",
    "        # allows selectively alter attribute without having to replicate the rest \n",
    "        if title:\n",
    "            self.title  = title      \n",
    "        if author:\n",
    "            self.author = author\n",
    "        if pages:\n",
    "            self.pages  = pages \n",
    "        if price: \n",
    "            self.price  = price"
   ]
  },
  {
   "cell_type": "code",
   "execution_count": 25,
   "metadata": {},
   "outputs": [
    {
     "name": "stdout",
     "output_type": "stream",
     "text": [
      "book details = {'ID': 'BOOK_690', 'title': 'Learning Python', 'author': 'somebody', 'pages': 100, 'price': 20}\n"
     ]
    }
   ],
   "source": [
    "b2 = Book(title='Learning Python',\n",
    "         author='somebody', \n",
    "         pages=100, \n",
    "         price=20)  # instantiate b1 as an object of Book class \n",
    "\n",
    "print(f'book details = {b2.get_details()}') # accessing the attribute"
   ]
  },
  {
   "cell_type": "markdown",
   "metadata": {},
   "source": [
    "Lets change the price only of the book `b2`"
   ]
  },
  {
   "cell_type": "code",
   "execution_count": 26,
   "metadata": {},
   "outputs": [
    {
     "name": "stdout",
     "output_type": "stream",
     "text": [
      "book details = {'ID': 'BOOK_690', 'title': 'Learning Python', 'author': 'somebody', 'pages': 100, 'price': 30}\n"
     ]
    }
   ],
   "source": [
    "b2.set_data(price=30)\n",
    "print(f'book details = {b2.get_details()}') "
   ]
  },
  {
   "cell_type": "markdown",
   "metadata": {},
   "source": [
    "Lets have a look on the mangling feature"
   ]
  },
  {
   "cell_type": "code",
   "execution_count": 23,
   "metadata": {},
   "outputs": [
    {
     "ename": "AttributeError",
     "evalue": "'Book' object has no attribute '__secret'",
     "output_type": "error",
     "traceback": [
      "\u001b[1;31m---------------------------------------------------------------------------\u001b[0m",
      "\u001b[1;31mAttributeError\u001b[0m                            Traceback (most recent call last)",
      "\u001b[1;32m~\\AppData\\Local\\Temp/ipykernel_2412/1339216084.py\u001b[0m in \u001b[0;36m<module>\u001b[1;34m\u001b[0m\n\u001b[0;32m      1\u001b[0m \u001b[1;31m# trying to access a mangled variable\u001b[0m\u001b[1;33m\u001b[0m\u001b[1;33m\u001b[0m\u001b[0m\n\u001b[1;32m----> 2\u001b[1;33m \u001b[0mb2\u001b[0m\u001b[1;33m.\u001b[0m\u001b[0m__secret\u001b[0m   \u001b[1;31m# throws error\u001b[0m\u001b[1;33m\u001b[0m\u001b[1;33m\u001b[0m\u001b[0m\n\u001b[0m",
      "\u001b[1;31mAttributeError\u001b[0m: 'Book' object has no attribute '__secret'"
     ]
    }
   ],
   "source": [
    "# trying to access a mangled variable \n",
    "b2.__secret   # throws error"
   ]
  },
  {
   "cell_type": "code",
   "execution_count": 24,
   "metadata": {},
   "outputs": [
    {
     "data": {
      "text/plain": [
       "'SEC_286'"
      ]
     },
     "execution_count": 24,
     "metadata": {},
     "output_type": "execute_result"
    }
   ],
   "source": [
    "# to access such variables\n",
    "b2._Book__secret"
   ]
  },
  {
   "cell_type": "markdown",
   "metadata": {},
   "source": [
    "## 1.3. Checking instance type \n",
    "* The `type(obj)` function takes an object as input and returns it Class. \n",
    "* The `isinstance(obj, class)` checks if `obj` is an instance of `class` and returns a boolean output.\n",
    "* All object in Python is of the type `object`. "
   ]
  },
  {
   "cell_type": "code",
   "execution_count": 31,
   "metadata": {},
   "outputs": [
    {
     "data": {
      "text/plain": [
       "__main__.Book"
      ]
     },
     "execution_count": 31,
     "metadata": {},
     "output_type": "execute_result"
    }
   ],
   "source": [
    "type(b1)"
   ]
  },
  {
   "cell_type": "code",
   "execution_count": 41,
   "metadata": {},
   "outputs": [
    {
     "data": {
      "text/plain": [
       "False"
      ]
     },
     "execution_count": 41,
     "metadata": {},
     "output_type": "execute_result"
    }
   ],
   "source": [
    "# comparing if two object are of same type\n",
    "type(b1) == type(b2)"
   ]
  },
  {
   "cell_type": "markdown",
   "metadata": {},
   "source": [
    "This is happening because when the object `b1` was created the class definition of `Book` was different than that of `b2`. It will clear more prominent in the `isinstance()` example. "
   ]
  },
  {
   "cell_type": "code",
   "execution_count": 37,
   "metadata": {},
   "outputs": [
    {
     "data": {
      "text/plain": [
       "True"
      ]
     },
     "execution_count": 37,
     "metadata": {},
     "output_type": "execute_result"
    }
   ],
   "source": [
    "# One way is to parse the output into string and then compare\n",
    "str(type(b1)) == str(type(b2))"
   ]
  },
  {
   "cell_type": "code",
   "execution_count": 47,
   "metadata": {},
   "outputs": [
    {
     "name": "stdout",
     "output_type": "stream",
     "text": [
      "is b1 a Book ? :  False\n",
      "is b2 a Book ? :  True\n",
      "is b1 an Object ? :  True\n",
      "is b2 an Object ? :  True\n"
     ]
    }
   ],
   "source": [
    "# A more cleaner way is to use the isinstance() function \n",
    "print(f'is b1 a Book ? :  {isinstance(b1, Book)}')\n",
    "print(f'is b2 a Book ? :  {isinstance(b2, Book)}')\n",
    "print(f'is b1 an Object ? :  {isinstance(b1, object)}')\n",
    "print(f'is b2 an Object ? :  {isinstance(b2, object)}')"
   ]
  },
  {
   "cell_type": "markdown",
   "metadata": {},
   "source": [
    "## 1.4. `@staticmethod` and `@classmethods` and Class attributes \n"
   ]
  },
  {
   "cell_type": "markdown",
   "metadata": {},
   "source": [
    "1. __class variables__ : Class variables are the __global variables__ within a Class. In the early examples all the attributes we created was the property of the object. Each object would get their own set of values. However, there are cases where certain variables are needed which serves as a property of the class globally for any object that comes out of it. These are called _class variables_. e.g., assume that, any book could be of one of the three types 'Hard Cover', 'Paperback' or 'eBook'. An instance variable type holds the type of the book. If an object received an illegal book type it must raise an exception. To avoid any accidental modification these class attributes are used as private. \n",
    "\n",
    "2. __class Method__ : A typical method in python takes the reference of the invoking instance as input by default. To change this behavior and force the method to take the class reference instead, we use _Class Methods_. It is done by using the `@classmethod` decorator that actually alters the behavior.  Usually a Class-Method is used to setting and getting a class variables. Class-Methods takes a class reference `cls` in oppose the object reference `self`. Class methods are invoked by the class name. _A `@classmethod` is more close to what a Constructor is, than that of a `__init__()` method; it's easier to overload too._\n",
    "\n",
    "3. __static method__ : A static method does not take any reference by default. It Behaves based on how is it called (e.g. `CLS.fun()` or `OBJ.fun()` ). A static method does not use any class or object reference in its code. To declare a method static, use `@staticmethod` decorator. "
   ]
  },
  {
   "cell_type": "code",
   "execution_count": 85,
   "metadata": {},
   "outputs": [],
   "source": [
    "class Book:    # declairing a class \n",
    "    __BOOK_TYPES = ('hard cover', 'paperback', 'ebook')  # Class attributes\n",
    "    __BOOK_LIST = None\n",
    "\n",
    "    @classmethod\n",
    "    def get_book_types(cls):      # class method with decorator \n",
    "        return cls.__BOOK_TYPES   # returns the book type\n",
    "\n",
    "    @staticmethod\n",
    "    def get_book_list():\n",
    "        if Book.__BOOK_LIST == None:\n",
    "            Book.__BOOK_LIST = []\n",
    "        else:\n",
    "            return Book.__BOOK_LIST\n",
    "\n",
    "    def __init__(self, title, author, pages, price, type):  \n",
    "        if type not in Book.__BOOK_TYPES:   # access class attribute using CLASS_NAME.ATTR_NAME\n",
    "            raise ValueError(f'Error: {type} is not a valid Book type !')\n",
    "        else:\n",
    "            self.__secret = 'SEC_'+str(random.randint(100,999)) \n",
    "            self._id    = 'BOOK_'+str(random.randint(100,999))  # adds a private ID attribute \n",
    "            self.title  = title     \n",
    "            self.author = author\n",
    "            self.pages  = pages \n",
    "            self.price  = price\n",
    "            self.type   = type\n",
    "\n",
    "            # updating the book list by appending the book ID \n",
    "            if Book.__BOOK_LIST == None:\n",
    "                Book.__BOOK_LIST = [self._id]\n",
    "            else:\n",
    "                Book.__BOOK_LIST.append(self._id)\n",
    "    \n",
    "    # returns the book details in a dict format\n",
    "    def get_details(self):    # all methods takes self as a mandatory input \n",
    "        return {\n",
    "            'ID' : self._id,\n",
    "            'title' : self.title,\n",
    "            'author': self.author,\n",
    "            'pages' : self.pages,\n",
    "            'price' : self.price,\n",
    "            'type'  : self.type\n",
    "        } \n",
    "\n",
    "    # changes the book details, notice it does'nt change the ID \n",
    "    def set_data(self, title=None, author=None, pages=None, price=None, type = None):  \n",
    "        # allows selectively alter attribute without having to replicate the rest \n",
    "        if title:\n",
    "            self.title  = title      \n",
    "        if author:\n",
    "            self.author = author\n",
    "        if pages:\n",
    "            self.pages  = pages \n",
    "        if price: \n",
    "            self.price  = price\n",
    "        if type:    # change is only possible with valid book types\n",
    "            if type in Book.__BOOK_TYPES:\n",
    "                self.type = type\n",
    "            else:\n",
    "                raise ValueError(f'Error: {type} is not a valid Book type !')\n",
    "            "
   ]
  },
  {
   "cell_type": "markdown",
   "metadata": {},
   "source": [
    "lets create an object `b3` of the new Book class with a type 'paperback'"
   ]
  },
  {
   "cell_type": "code",
   "execution_count": 86,
   "metadata": {},
   "outputs": [
    {
     "data": {
      "text/plain": [
       "{'ID': 'BOOK_172',\n",
       " 'title': 'My Book',\n",
       " 'author': 'me',\n",
       " 'pages': 100,\n",
       " 'price': 10,\n",
       " 'type': 'paperback'}"
      ]
     },
     "execution_count": 86,
     "metadata": {},
     "output_type": "execute_result"
    }
   ],
   "source": [
    "b3 = Book(title='My Book', author='me', pages=100, price=10, type='paperback')\n",
    "b3.get_details()"
   ]
  },
  {
   "cell_type": "markdown",
   "metadata": {},
   "source": [
    "If we want to change the type to an illegal one it raises an exception but not if to a valid one "
   ]
  },
  {
   "cell_type": "code",
   "execution_count": 93,
   "metadata": {},
   "outputs": [
    {
     "ename": "ValueError",
     "evalue": "Error: spiral is not a valid Book type !",
     "output_type": "error",
     "traceback": [
      "\u001b[1;31m---------------------------------------------------------------------------\u001b[0m",
      "\u001b[1;31mValueError\u001b[0m                                Traceback (most recent call last)",
      "\u001b[1;32m~\\AppData\\Local\\Temp/ipykernel_2412/2942040192.py\u001b[0m in \u001b[0;36m<module>\u001b[1;34m\u001b[0m\n\u001b[1;32m----> 1\u001b[1;33m \u001b[0mb3\u001b[0m\u001b[1;33m.\u001b[0m\u001b[0mset_data\u001b[0m\u001b[1;33m(\u001b[0m\u001b[0mtype\u001b[0m\u001b[1;33m=\u001b[0m\u001b[1;34m'spiral'\u001b[0m\u001b[1;33m)\u001b[0m   \u001b[1;31m# 'spiral' is not a valid type\u001b[0m\u001b[1;33m\u001b[0m\u001b[1;33m\u001b[0m\u001b[0m\n\u001b[0m",
      "\u001b[1;32m~\\AppData\\Local\\Temp/ipykernel_2412/1747523802.py\u001b[0m in \u001b[0;36mset_data\u001b[1;34m(self, title, author, pages, price, type)\u001b[0m\n\u001b[0;32m     58\u001b[0m                 \u001b[0mself\u001b[0m\u001b[1;33m.\u001b[0m\u001b[0mtype\u001b[0m \u001b[1;33m=\u001b[0m \u001b[0mtype\u001b[0m\u001b[1;33m\u001b[0m\u001b[1;33m\u001b[0m\u001b[0m\n\u001b[0;32m     59\u001b[0m             \u001b[1;32melse\u001b[0m\u001b[1;33m:\u001b[0m\u001b[1;33m\u001b[0m\u001b[1;33m\u001b[0m\u001b[0m\n\u001b[1;32m---> 60\u001b[1;33m                 \u001b[1;32mraise\u001b[0m \u001b[0mValueError\u001b[0m\u001b[1;33m(\u001b[0m\u001b[1;34mf'Error: {type} is not a valid Book type !'\u001b[0m\u001b[1;33m)\u001b[0m\u001b[1;33m\u001b[0m\u001b[1;33m\u001b[0m\u001b[0m\n\u001b[0m\u001b[0;32m     61\u001b[0m \u001b[1;33m\u001b[0m\u001b[0m\n",
      "\u001b[1;31mValueError\u001b[0m: Error: spiral is not a valid Book type !"
     ]
    }
   ],
   "source": [
    "b3.set_data(type='spiral')   # 'spiral' is not a valid type "
   ]
  },
  {
   "cell_type": "code",
   "execution_count": 94,
   "metadata": {},
   "outputs": [
    {
     "data": {
      "text/plain": [
       "{'ID': 'BOOK_172',\n",
       " 'title': 'My Book',\n",
       " 'author': 'me',\n",
       " 'pages': 100,\n",
       " 'price': 10,\n",
       " 'type': 'hard cover'}"
      ]
     },
     "execution_count": 94,
     "metadata": {},
     "output_type": "execute_result"
    }
   ],
   "source": [
    "b3.set_data(type='hard cover')    # valid type\n",
    "b3.get_details()"
   ]
  },
  {
   "cell_type": "markdown",
   "metadata": {},
   "source": [
    "To access a class method, call it by the Class name. Class methods can be called without instantiating an object of the class. "
   ]
  },
  {
   "cell_type": "code",
   "execution_count": 87,
   "metadata": {},
   "outputs": [
    {
     "data": {
      "text/plain": [
       "\"Book has the following types ('hard cover', 'paperback', 'ebook')\""
      ]
     },
     "execution_count": 87,
     "metadata": {},
     "output_type": "execute_result"
    }
   ],
   "source": [
    "f'Book has the following types {Book.get_book_types()}'"
   ]
  },
  {
   "cell_type": "code",
   "execution_count": 97,
   "metadata": {},
   "outputs": [
    {
     "data": {
      "text/plain": [
       "{'ID': 'BOOK_609',\n",
       " 'title': 'My Book',\n",
       " 'author': 'me',\n",
       " 'pages': 100,\n",
       " 'price': 10,\n",
       " 'type': 'paperback'}"
      ]
     },
     "execution_count": 97,
     "metadata": {},
     "output_type": "execute_result"
    }
   ],
   "source": [
    "b4 = Book(title='My Book', author='me', pages=100, price=10, type='paperback')\n",
    "b4.get_details()"
   ]
  },
  {
   "cell_type": "markdown",
   "metadata": {},
   "source": [
    "# 2. Inheritance "
   ]
  },
  {
   "cell_type": "code",
   "execution_count": null,
   "metadata": {},
   "outputs": [],
   "source": []
  },
  {
   "cell_type": "code",
   "execution_count": 119,
   "metadata": {},
   "outputs": [],
   "source": []
  },
  {
   "cell_type": "code",
   "execution_count": 120,
   "metadata": {},
   "outputs": [],
   "source": [
    "def is_balanced(str):\n",
    "\n",
    "    symbols = {'(' : ')', '{' : '}', '[' : ']' }\n",
    "    sym_stack = Stack()\n",
    "    for i in str:\n",
    "        print(f'item = {i} : stack = {sym_stack.show()}')\n",
    "        if i in symbols:\n",
    "            sym_stack.push(symbols[i])\n",
    "        elif i == sym_stack.peek():\n",
    "            sym_stack.pop()\n",
    "        else:\n",
    "            return False\n",
    "    return sym_stack.is_empty() "
   ]
  },
  {
   "cell_type": "code",
   "execution_count": 123,
   "metadata": {},
   "outputs": [],
   "source": [
    "str = r'{{{[]}}}'"
   ]
  },
  {
   "cell_type": "code",
   "execution_count": 124,
   "metadata": {},
   "outputs": [
    {
     "name": "stdout",
     "output_type": "stream",
     "text": [
      "item = { : stack = []\n",
      "item = { : stack = ['}']\n",
      "item = { : stack = ['}', '}']\n",
      "item = [ : stack = ['}', '}', '}']\n",
      "item = ] : stack = ['}', '}', '}', ']']\n",
      "item = } : stack = ['}', '}', '}']\n",
      "item = } : stack = ['}', '}']\n",
      "item = } : stack = ['}']\n"
     ]
    },
    {
     "data": {
      "text/plain": [
       "True"
      ]
     },
     "execution_count": 124,
     "metadata": {},
     "output_type": "execute_result"
    }
   ],
   "source": [
    "is_balanced(str)"
   ]
  },
  {
   "cell_type": "code",
   "execution_count": null,
   "metadata": {},
   "outputs": [],
   "source": []
  }
 ],
 "metadata": {
  "interpreter": {
   "hash": "54c72917cbc4e5d4bcbbae57e018ec8d32b0c2aba112d9ff1deac38e33bc39e3"
  },
  "kernelspec": {
   "display_name": "Python 3.9.7 64-bit",
   "language": "python",
   "name": "python3"
  },
  "language_info": {
   "codemirror_mode": {
    "name": "ipython",
    "version": 3
   },
   "file_extension": ".py",
   "mimetype": "text/x-python",
   "name": "python",
   "nbconvert_exporter": "python",
   "pygments_lexer": "ipython3",
   "version": "3.9.7"
  },
  "orig_nbformat": 4
 },
 "nbformat": 4,
 "nbformat_minor": 2
}
