{
 "cells": [
  {
   "cell_type": "markdown",
   "metadata": {},
   "source": [
    "# Object oriented programming in python\n",
    "In this tutorial, we'll discuss the OOP features in python with the following concepts. \n",
    "1. OOP basics in Python\n",
    "2. Inheritance and Composition\n",
    "3. Magic Object method\n",
    "4. Data classes \n",
    "\n",
    "## prerequisites\n",
    "This course presumes you to have the basic understanding of the following topics \n",
    "1. IDE (VSCode, Pycharm etc.)\n",
    "2. Fundamentals of Python3 language \n",
    "3. Basic OOP principles \n",
    "\n",
    "Have your development environment ready with IDE and the language (e.g. VSCode + Python3.6 or above + python extension). Check your python version using the following command in the shell. \n",
    "\n",
    "```\n",
    "python --version \n",
    "```"
   ]
  },
  {
   "cell_type": "markdown",
   "metadata": {},
   "source": [
    "# 1. OOP with python"
   ]
  },
  {
   "cell_type": "markdown",
   "metadata": {},
   "source": [
    "## 1.1. OOP refresher\n",
    "* In Python everything is an object. However you might code your logic using pure __Procedural__ manner, i.e. without using any explicit OOP design. However, when the logic is too complex, it's advised to use OOP to make your code more __manageable, organized and scalable__. \n",
    "* OOP lets grouping of Data and Methods together. \n",
    "* OOP helps __Modularity__ which helps updating your code with minimal disturbance to the rest of code in isolation.\n",
    "\n",
    "__Some basic OOP terms__\n",
    "\n",
    "| Terms | Meaning |\n",
    "|---|---|\n",
    "|Class | Template of an object |\n",
    "|Method| Member function of a Class | \n",
    "|Attributes | member variables of a Class | \n",
    "|Object | An instance of a Class | \n",
    "|Inheritance | Organizing classes in a hierarchical fashion by reusing members from parental Classes |\n",
    "|Composition | Means of building complex objects out of other objects |   "
   ]
  },
  {
   "cell_type": "markdown",
   "metadata": {},
   "source": [
    "## 1.2. Basic Class definition "
   ]
  },
  {
   "cell_type": "markdown",
   "metadata": {},
   "source": [
    "The following code shows the building of a simple Python Class in instantiating it. "
   ]
  },
  {
   "cell_type": "code",
   "execution_count": 2,
   "metadata": {},
   "outputs": [
    {
     "name": "stdout",
     "output_type": "stream",
     "text": [
      "book name = Learning Python\n"
     ]
    }
   ],
   "source": [
    "class Book:    # declairing a class \n",
    "    #overriding the default constructor __init__(self) \n",
    "    def __init__(self, title):  # self is a mandatory parameter which is the ref of the obj (e.g. this* )\n",
    "        self.title = title      # self.title is the member variable and title is the argument\n",
    "\n",
    "b1 = Book(title='Learning Python')  # instantiate b1 as an object of Book class \n",
    "print(f'book name = {b1.title}') # accessing the attribute "
   ]
  },
  {
   "cell_type": "markdown",
   "metadata": {},
   "source": [
    "## 1.3. Instance Methods and attributes \n",
    "The following code modifies the Book class to make it more robust \n",
    "1. it adds some new attributes: id, author, pages and price \n",
    "2. the `id` attribute is a written as `_id` which indicates the user to use it as a private variable. Programs can access it but it is not supposed to be changed. Python does not have a mechanism to declaring a variable as private like C++ or Java. the `_id` variable gets a unique random ID `BOOK_XXX` upon instantiating the object.\n",
    "3. There is another variable `__secret`, which will have a similar ID `SEC_XXX` but it is only accessible by the class members. Any attempt of accessing it from outside the class will through an error. Python internally alters the name of aby variable that is prefixed by `__` so that externally it can't be accessed the process is called __Name Mangling__. This also prevents any accidental override by sub-classes. However, you can access such variable by prefixing `_ClassName` (e.g. `_Book__secret` in this case).\n",
    "4. The `set_data()` method allows the user to alter the attributes of an already existing object. That said, `_id` not subject to alter for obvious reasons. The method must take only the attribute to alter, rest should remain unchanged. "
   ]
  },
  {
   "cell_type": "code",
   "execution_count": 20,
   "metadata": {},
   "outputs": [],
   "source": [
    "import random\n",
    "\n",
    "class Book:    # declairing a class \n",
    "    def __init__(self, title, author, pages, price):  \n",
    "        # lets add some more attributes\n",
    "        self.__secret = 'SEC_'+str(random.randint(100,999)) \n",
    "        self._id    = 'BOOK_'+str(random.randint(100,999))  # adds a private ID attribute \n",
    "        self.title  = title     \n",
    "        self.author = author\n",
    "        self.pages  = pages \n",
    "        self.price  = price\n",
    "    \n",
    "    # returns the book details in a dict format\n",
    "    def get_details(self):    # all methods takes self as a mandatory input \n",
    "        return {\n",
    "            'ID' : self._id,\n",
    "            'title' : self.title,\n",
    "            'author': self.author,\n",
    "            'pages' : self.pages,\n",
    "            'price' : self.price\n",
    "        } \n",
    "\n",
    "    # changes the book details, notice it does'nt change the ID \n",
    "    def set_data(self, title=None, author=None, pages=None, price=None):  \n",
    "        # allows selectively alter attribute without having to replicate the rest \n",
    "        if title:\n",
    "            self.title  = title      \n",
    "        if author:\n",
    "            self.author = author\n",
    "        if pages:\n",
    "            self.pages  = pages \n",
    "        if price: \n",
    "            self.price  = price"
   ]
  },
  {
   "cell_type": "code",
   "execution_count": 21,
   "metadata": {},
   "outputs": [
    {
     "name": "stdout",
     "output_type": "stream",
     "text": [
      "book details = {'ID': 'BOOK_784', 'title': 'Learning Python', 'author': 'somebody', 'pages': 100, 'price': 20}\n",
      "book details = {'ID': 'BOOK_784', 'title': 'Learning Python', 'author': 'somebody', 'pages': 100, 'price': 30}\n"
     ]
    }
   ],
   "source": [
    "b2 = Book(title='Learning Python',\n",
    "         author='somebody', \n",
    "         pages=100, \n",
    "         price=20)  # instantiate b1 as an object of Book class \n",
    "\n",
    "print(f'book details = {b2.get_details()}') # accessing the attribute\n",
    "\n",
    "b2.set_data(price=30)\n",
    "print(f'book details = {b2.get_details()}') "
   ]
  },
  {
   "cell_type": "markdown",
   "metadata": {},
   "source": [
    "Lets have a look on the mangling feature"
   ]
  },
  {
   "cell_type": "code",
   "execution_count": 23,
   "metadata": {},
   "outputs": [
    {
     "ename": "AttributeError",
     "evalue": "'Book' object has no attribute '__secret'",
     "output_type": "error",
     "traceback": [
      "\u001b[1;31m---------------------------------------------------------------------------\u001b[0m",
      "\u001b[1;31mAttributeError\u001b[0m                            Traceback (most recent call last)",
      "\u001b[1;32m~\\AppData\\Local\\Temp/ipykernel_2412/1339216084.py\u001b[0m in \u001b[0;36m<module>\u001b[1;34m\u001b[0m\n\u001b[0;32m      1\u001b[0m \u001b[1;31m# trying to access a mangled variable\u001b[0m\u001b[1;33m\u001b[0m\u001b[1;33m\u001b[0m\u001b[0m\n\u001b[1;32m----> 2\u001b[1;33m \u001b[0mb2\u001b[0m\u001b[1;33m.\u001b[0m\u001b[0m__secret\u001b[0m   \u001b[1;31m# throws error\u001b[0m\u001b[1;33m\u001b[0m\u001b[1;33m\u001b[0m\u001b[0m\n\u001b[0m",
      "\u001b[1;31mAttributeError\u001b[0m: 'Book' object has no attribute '__secret'"
     ]
    }
   ],
   "source": [
    "# trying to access a mangled variable \n",
    "b2.__secret   # throws error"
   ]
  },
  {
   "cell_type": "code",
   "execution_count": 24,
   "metadata": {},
   "outputs": [
    {
     "data": {
      "text/plain": [
       "'SEC_286'"
      ]
     },
     "execution_count": 24,
     "metadata": {},
     "output_type": "execute_result"
    }
   ],
   "source": [
    "# to access such variables\n",
    "b2._Book__secret"
   ]
  },
  {
   "cell_type": "code",
   "execution_count": null,
   "metadata": {},
   "outputs": [],
   "source": []
  }
 ],
 "metadata": {
  "interpreter": {
   "hash": "54c72917cbc4e5d4bcbbae57e018ec8d32b0c2aba112d9ff1deac38e33bc39e3"
  },
  "kernelspec": {
   "display_name": "Python 3.9.7 64-bit",
   "language": "python",
   "name": "python3"
  },
  "language_info": {
   "codemirror_mode": {
    "name": "ipython",
    "version": 3
   },
   "file_extension": ".py",
   "mimetype": "text/x-python",
   "name": "python",
   "nbconvert_exporter": "python",
   "pygments_lexer": "ipython3",
   "version": "3.9.7"
  },
  "orig_nbformat": 4
 },
 "nbformat": 4,
 "nbformat_minor": 2
}
