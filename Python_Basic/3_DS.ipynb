{
 "cells": [
  {
   "cell_type": "markdown",
   "metadata": {},
   "source": [
    "# Stack "
   ]
  },
  {
   "cell_type": "markdown",
   "metadata": {},
   "source": [
    "## The Stack Class"
   ]
  },
  {
   "cell_type": "code",
   "execution_count": 2,
   "metadata": {},
   "outputs": [],
   "source": [
    "class Stack():\n",
    "    def __init__(self):\n",
    "        self.__items = []\n",
    "    \n",
    "    def push(self,item):\n",
    "        self.__items.append(item)\n",
    "    def pop(self):\n",
    "        if self.__items:\n",
    "            return self.__items.pop()\n",
    "        else:\n",
    "            return None\n",
    "    def peek(self):\n",
    "        if self.__items:\n",
    "            return self.__items[-1]\n",
    "        else:\n",
    "            return None\n",
    "    def size(self):\n",
    "        return len(self.__items)\n",
    "    def is_empty(self):\n",
    "        return len(self.__items) == 0\n",
    "    def show(self):\n",
    "        return self.__items"
   ]
  },
  {
   "cell_type": "markdown",
   "metadata": {},
   "source": [
    "## Example : Balanced string test\n",
    "Given a string $str = {\\bigg\\{\"(\",\")\",\"\\{\",\"\\}\",\"[\",\"]\"\\bigg\\}}^*$ write a function that determines if $str$ is balanced. \n",
    " "
   ]
  },
  {
   "cell_type": "code",
   "execution_count": 15,
   "metadata": {},
   "outputs": [],
   "source": [
    "def is_balanced(str):\n",
    "\n",
    "    symbols = {'(' : ')', '{' : '}', '[' : ']' }\n",
    "    sym_stack = Stack()\n",
    "    for i in str:\n",
    "        print(f'item = {i} : stack = {sym_stack.show()}')\n",
    "        if i in symbols:\n",
    "            sym_stack.push(symbols[i])\n",
    "        elif i == sym_stack.peek():\n",
    "            sym_stack.pop()\n",
    "        else:\n",
    "            print('symbol not found !!')\n",
    "            return False\n",
    "    return sym_stack.is_empty()"
   ]
  },
  {
   "cell_type": "code",
   "execution_count": 16,
   "metadata": {},
   "outputs": [
    {
     "name": "stdout",
     "output_type": "stream",
     "text": [
      "item = { : stack = []\n",
      "item = { : stack = ['}']\n",
      "item = { : stack = ['}', '}']\n",
      "item = [ : stack = ['}', '}', '}']\n",
      "item = ] : stack = ['}', '}', '}', ']']\n",
      "item = } : stack = ['}', '}', '}']\n",
      "item = } : stack = ['}', '}']\n",
      "item = } : stack = ['}']\n"
     ]
    },
    {
     "data": {
      "text/plain": [
       "True"
      ]
     },
     "execution_count": 16,
     "metadata": {},
     "output_type": "execute_result"
    }
   ],
   "source": [
    "is_balanced(str= r'{{{[]}}}')"
   ]
  },
  {
   "cell_type": "code",
   "execution_count": 17,
   "metadata": {},
   "outputs": [
    {
     "name": "stdout",
     "output_type": "stream",
     "text": [
      "item = { : stack = []\n",
      "item = { : stack = ['}']\n",
      "item = { : stack = ['}', '}']\n",
      "item = [ : stack = ['}', '}', '}']\n",
      "item = ] : stack = ['}', '}', '}', ']']\n",
      "item = } : stack = ['}', '}', '}']\n",
      "item = } : stack = ['}', '}']\n",
      "item = } : stack = ['}']\n",
      "item = ] : stack = []\n",
      "symbol not found !!\n"
     ]
    },
    {
     "data": {
      "text/plain": [
       "False"
      ]
     },
     "execution_count": 17,
     "metadata": {},
     "output_type": "execute_result"
    }
   ],
   "source": [
    "is_balanced(str= r'{{{[]}}}]')"
   ]
  },
  {
   "cell_type": "markdown",
   "metadata": {},
   "source": [
    "# Queue \n",
    "\n",
    "* First in First Out (FIFO)\n",
    "* Linear mutable ADT: Items are inserted at the __'Rear'__ and deleted from the __'Front'__ of a queue. \n",
    "* Makes use of a list as internal DS: front = `list[-1]` and rear = `list[0]` positions which takes $O(1)$ and $O(n)$ times respectively. This is done because as long as the queue scales it would require more time in inserting. However, one might alter the implementation in case the deletion is more frequent. \n",
    "* A queue is a __limited access ADT__ as the access is only limited to the either ends. \n",
    "* A queue is a __Recursive DS__ as _as Queue is either empty or it has a Front item and the rest of it is a Queue_\n",
    "* Basic Operations\n",
    "    1. `enqueue()` : insert into a queue \n",
    "    2. `dequeue()` : delete from the queue\n",
    "* Additional Operations\n",
    "    1. `size()`    : returns the current size of the queue\n",
    "    2. `is_empty()`: returns if the queue is empty \n",
    "    3. `show()`    : returns the internal list \n",
    "    4. `peek()`    : returns the next item to remove but doesn't dequeue it. "
   ]
  },
  {
   "cell_type": "markdown",
   "metadata": {},
   "source": [
    "## The Queue Class"
   ]
  },
  {
   "cell_type": "code",
   "execution_count": 8,
   "metadata": {},
   "outputs": [],
   "source": [
    "class Queue():\n",
    "    def __init__(self):\n",
    "        self.__items = []    # declaring a private empty list to hold items\n",
    "    def enqueue(self, item):  \n",
    "        self.__items.append(item)   # insert at end\n",
    "    def dequeue(self):              \n",
    "        if self.__items:\n",
    "            return self.__items.pop() # delete at front if not underflow\n",
    "        else:\n",
    "            return None               # underflow   \n",
    "    def size(self):                      \n",
    "        return len(self.__items)\n",
    "    def is_empty(self):\n",
    "        return len(self.__items) == 0\n",
    "    def show(self):\n",
    "        return self.__items\n",
    "    def peek(self):\n",
    "        if self.__items:\n",
    "            return self.__items[0]\n",
    "        else:\n",
    "            return None"
   ]
  },
  {
   "cell_type": "code",
   "execution_count": 7,
   "metadata": {},
   "outputs": [
    {
     "name": "stdout",
     "output_type": "stream",
     "text": [
      "queue : [10, 20]\n",
      "queue : [10]\n",
      "queue : []\n"
     ]
    }
   ],
   "source": [
    "queue = Queue()    # instantiate the Queue \n",
    "queue.enqueue(10)  # [10]\n",
    "queue.enqueue(20)  # [10,20]\n",
    "print('queue :',queue.show())  \n",
    "queue.dequeue()    # 10 --> [20]\n",
    "print('queue :',queue.show())\n",
    "queue.dequeue()    # 20 --> []\n",
    "print('queue :',queue.show())\n",
    "queue.dequeue()    # None "
   ]
  },
  {
   "cell_type": "markdown",
   "metadata": {},
   "source": [
    "# Deque"
   ]
  },
  {
   "cell_type": "code",
   "execution_count": null,
   "metadata": {},
   "outputs": [],
   "source": [
    "class Deque():\n",
    "    def __init__(self):\n",
    "        self.__items = []\n",
    "\n",
    "    def add_front(self, item):\n",
    "        self.__items.insert(0, item)\n",
    "\n",
    "    def add_rear(self, item):\n",
    "        self.__items.append(item)\n",
    "    \n",
    "    def del_front(self):\n",
    "        if self.__items:\n",
    "            return self.__items.pop(0)\n",
    "        else:\n",
    "            return None \n",
    "    \n",
    "    def del_rear(self):\n",
    "        if self.__items:\n",
    "            return self.__items.pop()\n",
    "        else:\n",
    "            return None"
   ]
  },
  {
   "cell_type": "code",
   "execution_count": 29,
   "metadata": {},
   "outputs": [
    {
     "name": "stdout",
     "output_type": "stream",
     "text": [
      "Testing Insert at end... \n",
      "Testing Insert at begining...\n"
     ]
    },
    {
     "data": {
      "image/png": "[encoded data removed]",
      "text/plain": [
       "<Figure size 432x288 with 1 Axes>"
      ]
     },
     "metadata": {
      "needs_background": "light"
     },
     "output_type": "display_data"
    }
   ],
   "source": [
    "import matplotlib.pyplot as plt\n",
    "import time \n",
    "%matplotlib inline\n",
    "def list_insert_test():\n",
    "    test_list = []\n",
    "    time_to_add_end = []\n",
    "    time_to_add_beg = []\n",
    "\n",
    "    # insert at end\n",
    "    print('Testing Insert at end... ')\n",
    "    for _ in range(10**4):\n",
    "        t = time.time()\n",
    "        test_list.append('X')\n",
    "        time_to_add_end.append(time.time() - t)\n",
    "\n",
    "    # insert at begining \n",
    "    print('Testing Insert at begining...')\n",
    "    for _ in range(10**4):\n",
    "        t = time.time()\n",
    "        test_list.insert(0, 'X')\n",
    "        time_to_add_beg.append(time.time() - t)\n",
    "    \n",
    "    plt.plot(time_to_add_beg, 'r:' , label='Insert at beg')\n",
    "    plt.plot(time_to_add_end, 'b:' , label='Insert at end')\n",
    "\n",
    "    plt.show()\n",
    "\n",
    "list_insert_test()"
   ]
  },
  {
   "cell_type": "code",
   "execution_count": 26,
   "metadata": {},
   "outputs": [],
   "source": [
    "x = [1,2,3]\n"
   ]
  },
  {
   "cell_type": "code",
   "execution_count": 20,
   "metadata": {},
   "outputs": [
    {
     "data": {
      "text/plain": [
       "[10, 1, 2, 3]"
      ]
     },
     "execution_count": 20,
     "metadata": {},
     "output_type": "execute_result"
    }
   ],
   "source": [
    "x.insert(0,10)\n",
    "x"
   ]
  },
  {
   "cell_type": "code",
   "execution_count": null,
   "metadata": {},
   "outputs": [],
   "source": []
  }
 ],
 "metadata": {
  "interpreter": {
   "hash": "54c72917cbc4e5d4bcbbae57e018ec8d32b0c2aba112d9ff1deac38e33bc39e3"
  },
  "kernelspec": {
   "display_name": "Python 3.9.7 64-bit",
   "language": "python",
   "name": "python3"
  },
  "language_info": {
   "codemirror_mode": {
    "name": "ipython",
    "version": 3
   },
   "file_extension": ".py",
   "mimetype": "text/x-python",
   "name": "python",
   "nbconvert_exporter": "python",
   "pygments_lexer": "ipython3",
   "version": "3.9.7"
  },
  "orig_nbformat": 4
 },
 "nbformat": 4,
 "nbformat_minor": 2
}
