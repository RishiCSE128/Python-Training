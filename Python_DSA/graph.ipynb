{
 "cells": [
  {
   "cell_type": "markdown",
   "metadata": {},
   "source": [
    "# Defining a Graph using Adjacency List"
   ]
  },
  {
   "cell_type": "code",
   "execution_count": 29,
   "metadata": {},
   "outputs": [],
   "source": [
    "graph = {\n",
    "    'a' : ['b','c'],\n",
    "    'b' : ['d'],\n",
    "    'c' : ['e'],\n",
    "    'd' : ['f'],\n",
    "    'e' : [],\n",
    "    'f' : []\n",
    "}"
   ]
  },
  {
   "cell_type": "markdown",
   "metadata": {},
   "source": [
    "# DFS and BFS"
   ]
  },
  {
   "cell_type": "markdown",
   "metadata": {},
   "source": [
    "## DSF"
   ]
  },
  {
   "cell_type": "markdown",
   "metadata": {},
   "source": [
    "As DFS algorithm is based on a stack thus first define the stack ADT"
   ]
  },
  {
   "cell_type": "code",
   "execution_count": 30,
   "metadata": {},
   "outputs": [],
   "source": [
    "class Stack():\n",
    "    def __init__(self):\n",
    "        self.arr = []\n",
    "    def push(self,item):\n",
    "        self.arr.append(item)\n",
    "    def pop(self):\n",
    "        if len(self.arr) > 0:\n",
    "            return self.arr.pop()\n",
    "        else:\n",
    "            return None \n",
    "    def is_empty(self):\n",
    "        return len(self.arr) == 0"
   ]
  },
  {
   "cell_type": "code",
   "execution_count": 31,
   "metadata": {},
   "outputs": [],
   "source": [
    "def dfs(graph, source):\n",
    "    stack = Stack()\n",
    "    stack.push(source)\n",
    "    while not stack.is_empty():\n",
    "        current = stack.pop()\n",
    "        if current != None:\n",
    "            print(current)\n",
    "            for neighbor in graph[current]:\n",
    "                stack.push(neighbor)\n",
    "        else:\n",
    "            break"
   ]
  },
  {
   "cell_type": "code",
   "execution_count": 32,
   "metadata": {},
   "outputs": [
    {
     "name": "stdout",
     "output_type": "stream",
     "text": [
      "a\n",
      "c\n",
      "e\n",
      "b\n",
      "d\n",
      "f\n"
     ]
    }
   ],
   "source": [
    "dfs(graph=graph, source='a')"
   ]
  },
  {
   "cell_type": "markdown",
   "metadata": {},
   "source": [
    "### Recursive DFS\n",
    "\n",
    "In the recursive DFS, instead of creating an explicit Stack ADT we leverage the implicit call-stack. "
   ]
  },
  {
   "cell_type": "code",
   "execution_count": 33,
   "metadata": {},
   "outputs": [],
   "source": [
    "def dfs_rec(graph, source):\n",
    "    print(source)\n",
    "    for neighbor in graph[source]:\n",
    "        dfs_rec(graph=graph, source=neighbor)"
   ]
  },
  {
   "cell_type": "code",
   "execution_count": 34,
   "metadata": {},
   "outputs": [
    {
     "name": "stdout",
     "output_type": "stream",
     "text": [
      "a\n",
      "b\n",
      "d\n",
      "f\n",
      "c\n",
      "e\n"
     ]
    }
   ],
   "source": [
    "dfs_rec(graph=graph, source='a')"
   ]
  },
  {
   "cell_type": "markdown",
   "metadata": {},
   "source": [
    "# BFS"
   ]
  },
  {
   "cell_type": "code",
   "execution_count": 35,
   "metadata": {},
   "outputs": [],
   "source": [
    "class Queue():\n",
    "    def __init__(self):\n",
    "        self.arr = []\n",
    "    def enqueue(self,item):\n",
    "        self.arr.append(item)\n",
    "    def dequeue(self):\n",
    "        if len(self.arr) > 0:\n",
    "            return self.arr.pop(0)\n",
    "        else:\n",
    "            return None\n",
    "    def is_empty(self):\n",
    "        return len(self.arr) == 0"
   ]
  },
  {
   "cell_type": "code",
   "execution_count": 36,
   "metadata": {},
   "outputs": [],
   "source": [
    "def BFS(graph, source):\n",
    "    queue = Queue()\n",
    "    queue.enqueue(source)\n",
    "    while not queue.is_empty():\n",
    "        current = queue.dequeue()\n",
    "        if current != None:\n",
    "            print(current)\n",
    "            for neighbor in graph[current]:\n",
    "                BFS(graph, neighbor)\n",
    "        else:\n",
    "            break"
   ]
  },
  {
   "cell_type": "code",
   "execution_count": 37,
   "metadata": {},
   "outputs": [
    {
     "name": "stdout",
     "output_type": "stream",
     "text": [
      "a\n",
      "b\n",
      "d\n",
      "f\n",
      "c\n",
      "e\n"
     ]
    }
   ],
   "source": [
    "BFS(graph, 'a')"
   ]
  },
  {
   "cell_type": "code",
   "execution_count": null,
   "metadata": {},
   "outputs": [],
   "source": []
  }
 ],
 "metadata": {
  "interpreter": {
   "hash": "54c72917cbc4e5d4bcbbae57e018ec8d32b0c2aba112d9ff1deac38e33bc39e3"
  },
  "kernelspec": {
   "display_name": "Python 3.9.7 64-bit",
   "language": "python",
   "name": "python3"
  },
  "language_info": {
   "codemirror_mode": {
    "name": "ipython",
    "version": 3
   },
   "file_extension": ".py",
   "mimetype": "text/x-python",
   "name": "python",
   "nbconvert_exporter": "python",
   "pygments_lexer": "ipython3",
   "version": "3.9.7"
  },
  "orig_nbformat": 4
 },
 "nbformat": 4,
 "nbformat_minor": 2
}
