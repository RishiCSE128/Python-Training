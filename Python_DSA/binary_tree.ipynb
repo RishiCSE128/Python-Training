{
 "cells": [
  {
   "cell_type": "markdown",
   "metadata": {},
   "source": [
    "# Building a Binary Tree"
   ]
  },
  {
   "cell_type": "code",
   "execution_count": 5,
   "metadata": {},
   "outputs": [],
   "source": [
    "#define the node ADT\n",
    "class Node():\n",
    "    def __init__(self, val):\n",
    "        self.val = val\n",
    "        self.left = None\n",
    "        self.right = None\n",
    "    \n",
    "#Create a Tree \n",
    "#         A\n",
    "#       /   \\\n",
    "#      B     C\n",
    "#     / \\     \\\n",
    "#    D  E      F  \n",
    "\n",
    "# Create nodes \n",
    "a = Node('A')\n",
    "b = Node('B')\n",
    "c = Node('C')\n",
    "d = Node('D')\n",
    "e = Node('E')\n",
    "f = Node('F') \n",
    "\n",
    "# Link them in hierarchy\n",
    "a.left = b ; a.right = c  \n",
    "b.left = d ; b.right = e \n",
    "c.right = f"
   ]
  },
  {
   "cell_type": "markdown",
   "metadata": {},
   "source": [
    "#  1. Depth First Search \n",
    "Complexity = $T(n) = O(n)$ and $S(n) = O(n)$"
   ]
  },
  {
   "cell_type": "code",
   "execution_count": 34,
   "metadata": {},
   "outputs": [],
   "source": [
    "def dfs(root):\n",
    "    stack = [root]    # init stack using root node\n",
    "    ret = []          # to return \n",
    "    current = Node(None)  # foe easing with the debug output \n",
    "    while len(stack) > 0:       # for a non-empty tree the stack will have the root to begin with\n",
    "        print(f'visiting : {current.val} \\n\\t stack : {[x.val for x in stack]}\\n\\t ret   : {ret} ')\n",
    "        current = stack.pop()   # remove from the last index\n",
    "        ret.append(current.val)     # visited node goes to return list \n",
    "        if current.left == None and current.right == None:  # leaf node \n",
    "            pass\n",
    "        else:\n",
    "            if current.right:    # if right exist then push it\n",
    "                stack.append(current.right)\n",
    "            if current.left:     # same for left child\n",
    "                stack.append(current.left)\n",
    "    return ret"
   ]
  },
  {
   "cell_type": "code",
   "execution_count": 35,
   "metadata": {},
   "outputs": [
    {
     "name": "stdout",
     "output_type": "stream",
     "text": [
      "visiting : None \n",
      "\t stack : ['A']\n",
      "\t ret   : [] \n",
      "visiting : A \n",
      "\t stack : ['C', 'B']\n",
      "\t ret   : ['A'] \n",
      "visiting : B \n",
      "\t stack : ['C', 'E', 'D']\n",
      "\t ret   : ['A', 'B'] \n",
      "visiting : D \n",
      "\t stack : ['C', 'E']\n",
      "\t ret   : ['A', 'B', 'D'] \n",
      "visiting : E \n",
      "\t stack : ['C']\n",
      "\t ret   : ['A', 'B', 'D', 'E'] \n",
      "visiting : C \n",
      "\t stack : ['F']\n",
      "\t ret   : ['A', 'B', 'D', 'E', 'C'] \n"
     ]
    },
    {
     "data": {
      "text/plain": [
       "['A', 'B', 'D', 'E', 'C', 'F']"
      ]
     },
     "execution_count": 35,
     "metadata": {},
     "output_type": "execute_result"
    }
   ],
   "source": [
    "dfs(a)"
   ]
  },
  {
   "cell_type": "markdown",
   "metadata": {},
   "source": [
    "##  Recursive solution "
   ]
  },
  {
   "cell_type": "code",
   "execution_count": 47,
   "metadata": {},
   "outputs": [],
   "source": [
    "def dfs_rec(head, current, ret):\n",
    "    if head == None: # tree does not exist \n",
    "        return []\n",
    "    elif current == None:\n",
    "        return None \n",
    "    else:\n",
    "        ret.append(current.val)\n",
    "        dfs_rec(head, current.left, ret)\n",
    "        dfs_rec(head, current.right, ret)\n",
    "    return ret"
   ]
  },
  {
   "cell_type": "code",
   "execution_count": 48,
   "metadata": {},
   "outputs": [
    {
     "data": {
      "text/plain": [
       "['A', 'B', 'D', 'E', 'C', 'F']"
      ]
     },
     "execution_count": 48,
     "metadata": {},
     "output_type": "execute_result"
    }
   ],
   "source": [
    "dfs_rec(head=a, current=a, ret =[])"
   ]
  },
  {
   "cell_type": "markdown",
   "metadata": {},
   "source": [
    "# Tree Sum \n",
    "Calculate the sum of the tree"
   ]
  },
  {
   "cell_type": "code",
   "execution_count": 51,
   "metadata": {},
   "outputs": [],
   "source": [
    "#Create a Tree \n",
    "#         1\n",
    "#       /   \\\n",
    "#      2     3\n",
    "#     / \\     \\\n",
    "#    4   5      6  \n",
    "\n",
    "# Create nodes \n",
    "a = Node(1)\n",
    "b = Node(2)\n",
    "c = Node(3)\n",
    "d = Node(4)\n",
    "e = Node(5)\n",
    "f = Node(6) \n",
    "\n",
    "# Link them in hierarchy\n",
    "a.left = b ; a.right = c  \n",
    "b.left = d ; b.right = e \n",
    "c.right = f"
   ]
  },
  {
   "cell_type": "code",
   "execution_count": 52,
   "metadata": {},
   "outputs": [],
   "source": [
    "def tree_sum(root):\n",
    "    if root == None:   # if no node \n",
    "        return 0       \n",
    "    else:\n",
    "        return root.val + tree_sum(root.left) + tree_sum(root.right)  "
   ]
  },
  {
   "cell_type": "code",
   "execution_count": 53,
   "metadata": {},
   "outputs": [
    {
     "data": {
      "text/plain": [
       "21"
      ]
     },
     "execution_count": 53,
     "metadata": {},
     "output_type": "execute_result"
    }
   ],
   "source": [
    "tree_sum(a)"
   ]
  },
  {
   "cell_type": "markdown",
   "metadata": {},
   "source": [
    "# Branch Sum \n",
    "\n",
    "Return a list of sums per branch"
   ]
  },
  {
   "cell_type": "code",
   "execution_count": 99,
   "metadata": {},
   "outputs": [],
   "source": [
    "def branch_sum(root, current_sum, all_sums ):\n",
    "    '''\n",
    "    root          : current node \n",
    "    current_sum   : list of nodes along a branch \n",
    "    all_sums      : list of all branch-wise sums      \n",
    "    '''\n",
    "    if root == None:   # if reached an empty node, return \n",
    "        return\n",
    "    else:\n",
    "        current_sum.append(root.val)  # keep adding values to the current_sum list along the branch \n",
    "        print(f'root={root.val}, \\n\\t current_sum={current_sum}, \\n\\t all_sums={all_sums}')  # debug \n",
    "        if root.left == None and root.right == None: # for a leaf \n",
    "            all_sums.append(sum(current_sum))  # add the current branch sum to all_sum list, otherwise... \n",
    "        branch_sum(root.left, current_sum, all_sums)  # explore left sub-tree\n",
    "        branch_sum(root.right, current_sum, all_sums) # explore right sub-tree\n",
    "        current_sum.pop()                             # then remove current node from the list \n",
    "         \n",
    "    return all_sums"
   ]
  },
  {
   "cell_type": "code",
   "execution_count": 100,
   "metadata": {},
   "outputs": [
    {
     "name": "stdout",
     "output_type": "stream",
     "text": [
      "root=1, \n",
      "\t current_sum=[1], \n",
      "\t all_sums=[]\n",
      "root=2, \n",
      "\t current_sum=[1, 2], \n",
      "\t all_sums=[]\n",
      "root=4, \n",
      "\t current_sum=[1, 2, 4], \n",
      "\t all_sums=[]\n",
      "root=5, \n",
      "\t current_sum=[1, 2, 5], \n",
      "\t all_sums=[7]\n",
      "root=3, \n",
      "\t current_sum=[1, 3], \n",
      "\t all_sums=[7, 8]\n",
      "root=6, \n",
      "\t current_sum=[1, 3, 6], \n",
      "\t all_sums=[7, 8]\n"
     ]
    },
    {
     "data": {
      "text/plain": [
       "[7, 8, 10]"
      ]
     },
     "execution_count": 100,
     "metadata": {},
     "output_type": "execute_result"
    }
   ],
   "source": [
    "branch_sum(a,[],[])"
   ]
  },
  {
   "cell_type": "code",
   "execution_count": null,
   "metadata": {},
   "outputs": [],
   "source": []
  }
 ],
 "metadata": {
  "interpreter": {
   "hash": "54c72917cbc4e5d4bcbbae57e018ec8d32b0c2aba112d9ff1deac38e33bc39e3"
  },
  "kernelspec": {
   "display_name": "Python 3.9.7 64-bit",
   "language": "python",
   "name": "python3"
  },
  "language_info": {
   "codemirror_mode": {
    "name": "ipython",
    "version": 3
   },
   "file_extension": ".py",
   "mimetype": "text/x-python",
   "name": "python",
   "nbconvert_exporter": "python",
   "pygments_lexer": "ipython3",
   "version": "3.9.7"
  },
  "orig_nbformat": 4
 },
 "nbformat": 4,
 "nbformat_minor": 2
}
