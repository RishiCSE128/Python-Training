{
 "cells": [
  {
   "cell_type": "markdown",
   "metadata": {},
   "source": [
    "# Building a Binary Tree"
   ]
  },
  {
   "cell_type": "code",
   "execution_count": null,
   "metadata": {},
   "outputs": [],
   "source": []
  },
  {
   "cell_type": "code",
   "execution_count": 5,
   "metadata": {},
   "outputs": [],
   "source": [
    "#define the node ADT\n",
    "class Node():\n",
    "    def __init__(self, val):\n",
    "        self.val = val\n",
    "        self.left = None\n",
    "        self.right = None\n",
    "    \n",
    "#Create a Tree \n",
    "#         A\n",
    "#       /   \\\n",
    "#      B     C\n",
    "#     / \\     \\\n",
    "#    D  E      F  \n",
    "\n",
    "# Create nodes \n",
    "a = Node('A')\n",
    "b = Node('B')\n",
    "c = Node('C')\n",
    "d = Node('D')\n",
    "e = Node('E')\n",
    "f = Node('F') \n",
    "\n",
    "# Link them in hierarchy\n",
    "a.left = b ; a.right = c  \n",
    "b.left = d ; b.right = e \n",
    "c.right = f"
   ]
  },
  {
   "cell_type": "markdown",
   "metadata": {},
   "source": [
    "#  1. Depth First Search \n",
    "Complexity = $T(n) = O(n)$ and $S(n) = O(n)$"
   ]
  },
  {
   "cell_type": "code",
   "execution_count": 34,
   "metadata": {},
   "outputs": [],
   "source": [
    "def dfs(root):\n",
    "    stack = [root]    # init stack using root node\n",
    "    ret = []          # to return \n",
    "    current = Node(None)  # foe easing with the debug output \n",
    "    while len(stack) > 0:       # for a non-empty tree the stack will have the root to begin with\n",
    "        print(f'visiting : {current.val} \\n\\t stack : {[x.val for x in stack]}\\n\\t ret   : {ret} ')\n",
    "        current = stack.pop()   # remove from the last index\n",
    "        ret.append(current.val)     # visited node goes to return list \n",
    "        if current.left == None and current.right == None:  # leaf node \n",
    "            pass\n",
    "        else:\n",
    "            if current.right:    # if right exist then push it\n",
    "                stack.append(current.right)\n",
    "            if current.left:     # same for left child\n",
    "                stack.append(current.left)\n",
    "    return ret"
   ]
  },
  {
   "cell_type": "code",
   "execution_count": 35,
   "metadata": {},
   "outputs": [
    {
     "name": "stdout",
     "output_type": "stream",
     "text": [
      "visiting : None \n",
      "\t stack : ['A']\n",
      "\t ret   : [] \n",
      "visiting : A \n",
      "\t stack : ['C', 'B']\n",
      "\t ret   : ['A'] \n",
      "visiting : B \n",
      "\t stack : ['C', 'E', 'D']\n",
      "\t ret   : ['A', 'B'] \n",
      "visiting : D \n",
      "\t stack : ['C', 'E']\n",
      "\t ret   : ['A', 'B', 'D'] \n",
      "visiting : E \n",
      "\t stack : ['C']\n",
      "\t ret   : ['A', 'B', 'D', 'E'] \n",
      "visiting : C \n",
      "\t stack : ['F']\n",
      "\t ret   : ['A', 'B', 'D', 'E', 'C'] \n"
     ]
    },
    {
     "data": {
      "text/plain": [
       "['A', 'B', 'D', 'E', 'C', 'F']"
      ]
     },
     "execution_count": 35,
     "metadata": {},
     "output_type": "execute_result"
    }
   ],
   "source": [
    "dfs(a)"
   ]
  },
  {
   "cell_type": "markdown",
   "metadata": {},
   "source": [
    "##  Recursive solution "
   ]
  },
  {
   "cell_type": "code",
   "execution_count": 47,
   "metadata": {},
   "outputs": [],
   "source": [
    "def dfs_rec(head, current, ret):\n",
    "    if head == None: # tree does not exist \n",
    "        return []\n",
    "    elif current == None:\n",
    "        return None \n",
    "    else:\n",
    "        ret.append(current.val)\n",
    "        dfs_rec(head, current.left, ret)\n",
    "        dfs_rec(head, current.right, ret)\n",
    "    return ret"
   ]
  },
  {
   "cell_type": "code",
   "execution_count": 48,
   "metadata": {},
   "outputs": [
    {
     "data": {
      "text/plain": [
       "['A', 'B', 'D', 'E', 'C', 'F']"
      ]
     },
     "execution_count": 48,
     "metadata": {},
     "output_type": "execute_result"
    }
   ],
   "source": [
    "dfs_rec(head=a, current=a, ret =[])"
   ]
  },
  {
   "cell_type": "markdown",
   "metadata": {},
   "source": [
    "# 2. Tree Sum \n",
    "Calculate the sum of the tree"
   ]
  },
  {
   "cell_type": "code",
   "execution_count": 51,
   "metadata": {},
   "outputs": [],
   "source": [
    "#Create a Tree \n",
    "#         1\n",
    "#       /   \\\n",
    "#      2     3\n",
    "#     / \\     \\\n",
    "#    4   5      6  \n",
    "\n",
    "# Create nodes \n",
    "a = Node(1)\n",
    "b = Node(2)\n",
    "c = Node(3)\n",
    "d = Node(4)\n",
    "e = Node(5)\n",
    "f = Node(6) \n",
    "\n",
    "# Link them in hierarchy\n",
    "a.left = b ; a.right = c  \n",
    "b.left = d ; b.right = e \n",
    "c.right = f"
   ]
  },
  {
   "cell_type": "code",
   "execution_count": 52,
   "metadata": {},
   "outputs": [],
   "source": [
    "def tree_sum(root):\n",
    "    if root == None:   # if no node \n",
    "        return 0       \n",
    "    else:\n",
    "        return root.val + tree_sum(root.left) + tree_sum(root.right)  "
   ]
  },
  {
   "cell_type": "code",
   "execution_count": 53,
   "metadata": {},
   "outputs": [
    {
     "data": {
      "text/plain": [
       "21"
      ]
     },
     "execution_count": 53,
     "metadata": {},
     "output_type": "execute_result"
    }
   ],
   "source": [
    "tree_sum(a)"
   ]
  },
  {
   "cell_type": "markdown",
   "metadata": {},
   "source": [
    "# 3. Tree Includes \n",
    "\n",
    "Given a binary tree and a value, return True if the value exists int he tree otherwise False."
   ]
  },
  {
   "cell_type": "markdown",
   "metadata": {},
   "source": [
    "## 3.1. Iterative solution with BFS"
   ]
  },
  {
   "cell_type": "code",
   "execution_count": 167,
   "metadata": {},
   "outputs": [],
   "source": [
    "# this code uses BFS to search every level to find a match \n",
    "def is_include(root, item):\n",
    "    if root != None:\n",
    "        queue = [root]\n",
    "        while len(queue) > 0:\n",
    "            current = queue.pop(0)\n",
    "            print(f'Current = {current.val} , item = {item}')\n",
    "            if current.val == item:\n",
    "                return True\n",
    "            else:\n",
    "                if current.left:\n",
    "                    queue.append(current.left)\n",
    "                if current.right:\n",
    "                    queue.append(current.right)\n",
    "        return False"
   ]
  },
  {
   "cell_type": "code",
   "execution_count": 168,
   "metadata": {},
   "outputs": [
    {
     "name": "stdout",
     "output_type": "stream",
     "text": [
      "Current = 1 , item = 2\n",
      "Current = 2 , item = 2\n"
     ]
    },
    {
     "data": {
      "text/plain": [
       "True"
      ]
     },
     "execution_count": 168,
     "metadata": {},
     "output_type": "execute_result"
    }
   ],
   "source": [
    "is_include(a, 2)"
   ]
  },
  {
   "cell_type": "code",
   "execution_count": 169,
   "metadata": {},
   "outputs": [
    {
     "name": "stdout",
     "output_type": "stream",
     "text": [
      "Current = 1 , item = 3\n",
      "Current = 2 , item = 3\n",
      "Current = 3 , item = 3\n"
     ]
    },
    {
     "data": {
      "text/plain": [
       "True"
      ]
     },
     "execution_count": 169,
     "metadata": {},
     "output_type": "execute_result"
    }
   ],
   "source": [
    "is_include(a,3)"
   ]
  },
  {
   "cell_type": "code",
   "execution_count": 170,
   "metadata": {},
   "outputs": [
    {
     "name": "stdout",
     "output_type": "stream",
     "text": [
      "Current = 1 , item = 10\n",
      "Current = 2 , item = 10\n",
      "Current = 3 , item = 10\n",
      "Current = 4 , item = 10\n",
      "Current = 5 , item = 10\n",
      "Current = 6 , item = 10\n"
     ]
    },
    {
     "data": {
      "text/plain": [
       "False"
      ]
     },
     "execution_count": 170,
     "metadata": {},
     "output_type": "execute_result"
    }
   ],
   "source": [
    "is_include(a,10)"
   ]
  },
  {
   "cell_type": "markdown",
   "metadata": {},
   "source": [
    "## 3.2. Recursive solution with DFS\n",
    "\n",
    "In a recursive solution the tree is searched using DFS. However there is a trick to handle the return process. Assume that for any None node, the item doesn't match hence it returns a False (base case 1), for a non-None node if it matches the item then it returns a True (base case 2). Now, throughout the DFS process for each node there will be several True/False value, to combine that use a Logical OR. "
   ]
  },
  {
   "cell_type": "code",
   "execution_count": 176,
   "metadata": {},
   "outputs": [],
   "source": [
    "def is_include_rec(root, item):\n",
    "    if root == None:  # None node doesn't contain item  \n",
    "        return False\n",
    "    else:\n",
    "        if root.val == item:  # is node has the item \n",
    "            return True\n",
    "        else:   # if not then are any of the children has the item \n",
    "            return is_include_rec(root.left, item) or is_include_rec(root.right, item)"
   ]
  },
  {
   "cell_type": "code",
   "execution_count": 177,
   "metadata": {},
   "outputs": [
    {
     "name": "stdout",
     "output_type": "stream",
     "text": [
      "True\n",
      "True\n",
      "False\n"
     ]
    }
   ],
   "source": [
    "print(is_include_rec(a,2))\n",
    "print(is_include_rec(a,3))\n",
    "print(is_include_rec(a,10))"
   ]
  },
  {
   "cell_type": "markdown",
   "metadata": {},
   "source": [
    "# 4. Branch Sum \n",
    "\n",
    "Return a list of sums per branch"
   ]
  },
  {
   "cell_type": "code",
   "execution_count": 106,
   "metadata": {},
   "outputs": [],
   "source": [
    "def branch_sum(root, current_branch, all_sums ):\n",
    "    '''\n",
    "    root          : current node \n",
    "    current_sum   : list of nodes along a branch \n",
    "    all_sums      : list of all branch-wise sums      \n",
    "    '''\n",
    "    if root == None:   # if reached an empty node, return \n",
    "        return\n",
    "    else:\n",
    "        current_branch.append(root.val)  # keep adding values to the current_sum list along the branch \n",
    "        print(f'root={root.val}, \\n\\t current_branch={current_branch}, \\n\\t all_sums={all_sums}')  # debug \n",
    "        if root.left == None and root.right == None: # for a leaf \n",
    "            all_sums.append(sum(current_branch))  # add the current branch sum to all_sum list, otherwise... \n",
    "        branch_sum(root.left, current_branch, all_sums)  # explore left sub-tree\n",
    "        branch_sum(root.right, current_branch, all_sums) # explore right sub-tree\n",
    "        current_branch.pop()                             # then remove current node from the list \n",
    "         \n",
    "    return all_sums"
   ]
  },
  {
   "cell_type": "code",
   "execution_count": 107,
   "metadata": {},
   "outputs": [
    {
     "name": "stdout",
     "output_type": "stream",
     "text": [
      "root=1, \n",
      "\t current_branch=[1], \n",
      "\t all_sums=[]\n",
      "root=2, \n",
      "\t current_branch=[1, 2], \n",
      "\t all_sums=[]\n",
      "root=4, \n",
      "\t current_branch=[1, 2, 4], \n",
      "\t all_sums=[]\n",
      "root=5, \n",
      "\t current_branch=[1, 2, 5], \n",
      "\t all_sums=[7]\n",
      "root=3, \n",
      "\t current_branch=[1, 3], \n",
      "\t all_sums=[7, 8]\n",
      "root=6, \n",
      "\t current_branch=[1, 3, 6], \n",
      "\t all_sums=[7, 8]\n"
     ]
    },
    {
     "data": {
      "text/plain": [
       "[7, 8, 10]"
      ]
     },
     "execution_count": 107,
     "metadata": {},
     "output_type": "execute_result"
    }
   ],
   "source": [
    "branch_sum(a,[],[])"
   ]
  },
  {
   "cell_type": "markdown",
   "metadata": {},
   "source": [
    "# Find Range\n",
    "\n",
    "Given a Binary tree return the range of number that the tree contains in a form of a list, where the list = $[l,u]$"
   ]
  },
  {
   "cell_type": "code",
   "execution_count": 183,
   "metadata": {},
   "outputs": [],
   "source": [
    "#Create a Tree \n",
    "#         1\n",
    "#       /   \\\n",
    "#      2     3\n",
    "#     / \\     \\\n",
    "#    4   5      6\n",
    "#              / \\ \n",
    "#            10  20 \n",
    "\n",
    "\n",
    "# Create nodes \n",
    "_1 = Node(1)\n",
    "_2 = Node(2)\n",
    "_3 = Node(3)\n",
    "_4 = Node(4)\n",
    "_5 = Node(5)\n",
    "_6 = Node(6) \n",
    "_10 = Node(10)\n",
    "_20 = Node(20)\n",
    "\n",
    "# Link them in hierarchy\n",
    "_1.left = _2 ; _1.right = _3  \n",
    "_2.left = _4 ; _2.right = _5 \n",
    "_3.right = _6\n",
    "_6.left = _10 ; _6.right = _20"
   ]
  },
  {
   "cell_type": "code",
   "execution_count": 185,
   "metadata": {},
   "outputs": [],
   "source": [
    "# the process can be done leveraging the DFS and BFS logic; however, the code below uses DFS \n",
    "def get_range(root):\n",
    "    return get_range_helper(root , [root.val, root.val])  # assume the initial range is [min, max] = [root.val, root.val]\n",
    "\n",
    "def get_range_helper(root, global_range):\n",
    "    if root == None:                   # at None node return the [min,max] of the branch \n",
    "        return global_range\n",
    "    else:\n",
    "        #update min, max range \n",
    "        if root.val < global_range[0]:\n",
    "            global_range[0] = root.val\n",
    "        if root.val > global_range[1]:\n",
    "            global_range[1] = root.val\n",
    "        \n",
    "        left = get_range_helper(root.left , global_range) \n",
    "        right = get_range_helper(root.right , global_range)\n",
    "        return [min(left[0], right[0]), max(left[1], right[1])] # return the min and max of the left and right min, max respectively "
   ]
  },
  {
   "cell_type": "code",
   "execution_count": 186,
   "metadata": {},
   "outputs": [
    {
     "data": {
      "text/plain": [
       "[1, 20]"
      ]
     },
     "execution_count": 186,
     "metadata": {},
     "output_type": "execute_result"
    }
   ],
   "source": [
    "get_range(root=_1)"
   ]
  },
  {
   "cell_type": "code",
   "execution_count": null,
   "metadata": {},
   "outputs": [],
   "source": []
  }
 ],
 "metadata": {
  "interpreter": {
   "hash": "54c72917cbc4e5d4bcbbae57e018ec8d32b0c2aba112d9ff1deac38e33bc39e3"
  },
  "kernelspec": {
   "display_name": "Python 3.9.7 64-bit",
   "language": "python",
   "name": "python3"
  },
  "language_info": {
   "codemirror_mode": {
    "name": "ipython",
    "version": 3
   },
   "file_extension": ".py",
   "mimetype": "text/x-python",
   "name": "python",
   "nbconvert_exporter": "python",
   "pygments_lexer": "ipython3",
   "version": "3.9.7"
  },
  "orig_nbformat": 4
 },
 "nbformat": 4,
 "nbformat_minor": 2
}
