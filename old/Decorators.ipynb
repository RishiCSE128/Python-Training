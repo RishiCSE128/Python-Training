{
 "cells": [
  {
   "cell_type": "markdown",
   "metadata": {},
   "source": [
    "# Decorators \n",
    "## Functions and inner-functions\n",
    "Lets create a function that prints the fibonnacci sequence "
   ]
  },
  {
   "cell_type": "code",
   "execution_count": 1,
   "metadata": {},
   "outputs": [],
   "source": [
    "def fibo(n):\n",
    "    ''' print fibonacci'''\n",
    "    if n < 2:\n",
    "        return n\n",
    "    else:\n",
    "        return fibo(n-1) + fibo(n-2) "
   ]
  },
  {
   "cell_type": "code",
   "execution_count": 2,
   "metadata": {},
   "outputs": [
    {
     "name": "stdout",
     "output_type": "stream",
     "text": [
      "0th fibonacci number is : 0\n",
      "1th fibonacci number is : 1\n",
      "2th fibonacci number is : 1\n",
      "3th fibonacci number is : 2\n",
      "4th fibonacci number is : 3\n",
      "5th fibonacci number is : 5\n",
      "6th fibonacci number is : 8\n",
      "7th fibonacci number is : 13\n",
      "8th fibonacci number is : 21\n",
      "9th fibonacci number is : 34\n"
     ]
    }
   ],
   "source": [
    "for i in range(10):\n",
    "    print(f'{i}th fibonacci number is : {fibo(i)}')"
   ]
  },
  {
   "cell_type": "markdown",
   "metadata": {},
   "source": [
    "Lets check the type of the `fibo(n)` function"
   ]
  },
  {
   "cell_type": "code",
   "execution_count": 74,
   "metadata": {},
   "outputs": [
    {
     "data": {
      "text/plain": [
       "function"
      ]
     },
     "execution_count": 74,
     "metadata": {},
     "output_type": "execute_result"
    }
   ],
   "source": [
    "type(fibo)"
   ]
  },
  {
   "cell_type": "code",
   "execution_count": 75,
   "metadata": {},
   "outputs": [
    {
     "data": {
      "text/plain": [
       "int"
      ]
     },
     "execution_count": 75,
     "metadata": {},
     "output_type": "execute_result"
    }
   ],
   "source": [
    "type(fibo(1))"
   ]
  },
  {
   "cell_type": "markdown",
   "metadata": {},
   "source": [
    "Now lets write a function within funtions, this is the basis of using Decorators. Notice that the vapiable passed into the enclosing function `fact_fibo` is local to the inner functions"
   ]
  },
  {
   "cell_type": "code",
   "execution_count": 3,
   "metadata": {},
   "outputs": [],
   "source": [
    "def fact_fibo(n):\n",
    "    '''returns the factorial of the nth fibonacci number'''\n",
    "\n",
    "    def fact(n):\n",
    "        '''returns the factorial of n'''\n",
    "        if n == 1 :\n",
    "            return n\n",
    "        else:\n",
    "            return n*fact(n-1)\n",
    "    \n",
    "    def fibo(n):\n",
    "        '''returns the nth fibonacci number'''\n",
    "        if n<2:\n",
    "            return n\n",
    "        else:\n",
    "            return fibo(n-1) + fibo(n-2)\n",
    "\n",
    "    return fact(fibo(n))"
   ]
  },
  {
   "cell_type": "code",
   "execution_count": 4,
   "metadata": {},
   "outputs": [
    {
     "data": {
      "text/plain": [
       "40320"
      ]
     },
     "execution_count": 4,
     "metadata": {},
     "output_type": "execute_result"
    }
   ],
   "source": [
    "fact_fibo(6)"
   ]
  },
  {
   "cell_type": "markdown",
   "metadata": {},
   "source": [
    "## Decorators\n",
    "\n",
    "Definition: _A decorator is a callable that takes another function as an argument, extending the behaviour of that function without explicitly modifying that function_\n",
    "* Decorators are particularly useful when applying changes to a large number of function. \n",
    "* The original function remains as it is, which relaxes the complexity. \n",
    "\n",
    "We now create a wrapper function that takes any interger returing function as input and returns its factorial"
   ]
  },
  {
   "cell_type": "code",
   "execution_count": 138,
   "metadata": {},
   "outputs": [],
   "source": [
    "# base template:\n",
    "from functools import wraps\n",
    "\n",
    "def my_decor(func):\n",
    "    '''this is a decorator that takes a function object func as input'''\n",
    "    \n",
    "    @wraps(func)   #preserving metadata of the decorated function\n",
    "    def wrapper(*args, **kwargs):  # takes any arguments (to resolve arg conflict with the decorated function)\n",
    "        '''this is the wrapper function'''\n",
    "        # do something here\n",
    "        result = func(*args, **kwargs)  # call the decorated function\n",
    "        # do something here \n",
    "        return result \n",
    "    return wrapper    # returning the wrapper function reference out \n",
    "\n",
    "@my_decor     #decorating   :    my_func = my_decor(my_func)\n",
    "def my_func(*args, **kwargs):\n",
    "    #define the function here \n",
    "    pass"
   ]
  },
  {
   "cell_type": "code",
   "execution_count": 103,
   "metadata": {},
   "outputs": [],
   "source": [
    "from functools import wraps\n",
    "\n",
    "def wrapper(func):\n",
    "    '''wraps a function func'''\n",
    "    @wraps(func)  #alters the metadata of the decorated by the param's \n",
    "    def _fibo():\n",
    "        return 'This is _fibo'\n",
    "    #_fibo.__name__ = func.__name__\n",
    "    #_fibo.__doc__ = func.__doc__\n",
    "    return _fibo"
   ]
  },
  {
   "cell_type": "code",
   "execution_count": 99,
   "metadata": {},
   "outputs": [
    {
     "data": {
      "text/plain": [
       "<function __main__.wrapper.<locals>._fibo()>"
      ]
     },
     "execution_count": 99,
     "metadata": {},
     "output_type": "execute_result"
    }
   ],
   "source": [
    "# returns the ref to _fibo() function\n",
    "wrapper(fibo(5))"
   ]
  },
  {
   "cell_type": "code",
   "execution_count": 80,
   "metadata": {},
   "outputs": [
    {
     "data": {
      "text/plain": [
       "5"
      ]
     },
     "execution_count": 80,
     "metadata": {},
     "output_type": "execute_result"
    }
   ],
   "source": [
    "fibo(5)"
   ]
  },
  {
   "cell_type": "code",
   "execution_count": 81,
   "metadata": {},
   "outputs": [
    {
     "data": {
      "text/plain": [
       "<function __main__.wrapper.<locals>._fibo()>"
      ]
     },
     "execution_count": 81,
     "metadata": {},
     "output_type": "execute_result"
    }
   ],
   "source": [
    "wrapper(fibo(5))"
   ]
  },
  {
   "cell_type": "code",
   "execution_count": 82,
   "metadata": {},
   "outputs": [],
   "source": [
    "fibo = wrapper(fibo(5))   #reassigning the function pointer to fibo()"
   ]
  },
  {
   "cell_type": "code",
   "execution_count": 83,
   "metadata": {},
   "outputs": [
    {
     "ename": "TypeError",
     "evalue": "_fibo() takes 0 positional arguments but 1 was given",
     "output_type": "error",
     "traceback": [
      "\u001b[1;31m---------------------------------------------------------------------------\u001b[0m",
      "\u001b[1;31mTypeError\u001b[0m                                 Traceback (most recent call last)",
      "\u001b[1;32m~\\AppData\\Local\\Temp/ipykernel_18200/3551427433.py\u001b[0m in \u001b[0;36m<module>\u001b[1;34m\u001b[0m\n\u001b[1;32m----> 1\u001b[1;33m \u001b[0mfibo\u001b[0m\u001b[1;33m(\u001b[0m\u001b[1;36m5\u001b[0m\u001b[1;33m)\u001b[0m  \u001b[1;31m# the function _fibo has replaced fibo and _fibo() takes 0 argument\u001b[0m\u001b[1;33m\u001b[0m\u001b[1;33m\u001b[0m\u001b[0m\n\u001b[0m",
      "\u001b[1;31mTypeError\u001b[0m: _fibo() takes 0 positional arguments but 1 was given"
     ]
    }
   ],
   "source": [
    "fibo(5)  # the function _fibo has replaced fibo and _fibo() takes 0 argument"
   ]
  },
  {
   "cell_type": "code",
   "execution_count": 84,
   "metadata": {},
   "outputs": [
    {
     "data": {
      "text/plain": [
       "'This is _fibo'"
      ]
     },
     "execution_count": 84,
     "metadata": {},
     "output_type": "execute_result"
    }
   ],
   "source": [
    "fibo()"
   ]
  },
  {
   "cell_type": "markdown",
   "metadata": {},
   "source": [
    "The decorator simplifies the process by annotating a function with a decorator. "
   ]
  },
  {
   "cell_type": "code",
   "execution_count": 105,
   "metadata": {},
   "outputs": [],
   "source": [
    "@wrapper                 \n",
    "def new_fibo(n):        #    new_fibo = wrapper(new_fibo(n))\n",
    "        '''returns the nth fibonacci number'''\n",
    "        if n<2:\n",
    "            return n\n",
    "        else:\n",
    "            return fibo(n-1) + fibo(n-2)"
   ]
  },
  {
   "cell_type": "code",
   "execution_count": 86,
   "metadata": {},
   "outputs": [
    {
     "data": {
      "text/plain": [
       "'This is _fibo'"
      ]
     },
     "execution_count": 86,
     "metadata": {},
     "output_type": "execute_result"
    }
   ],
   "source": [
    "new_fibo()"
   ]
  },
  {
   "cell_type": "code",
   "execution_count": 87,
   "metadata": {},
   "outputs": [
    {
     "data": {
      "text/plain": [
       "<function __main__.wrapper.<locals>._fibo()>"
      ]
     },
     "execution_count": 87,
     "metadata": {},
     "output_type": "execute_result"
    }
   ],
   "source": [
    "new_fibo"
   ]
  },
  {
   "cell_type": "markdown",
   "metadata": {},
   "source": [
    "# Using @wrap \n",
    "\n",
    "*  when we decorate a function the metadata of the decorated function is replaced by the decorating fucntion. "
   ]
  },
  {
   "cell_type": "code",
   "execution_count": 101,
   "metadata": {},
   "outputs": [
    {
     "name": "stdout",
     "output_type": "stream",
     "text": [
      "_fibo\n",
      "None\n"
     ]
    }
   ],
   "source": [
    "# check the `__name__` and `__doc_` metadata of the new fibo is replaced by the one of _fibo() \n",
    "print(new_fibo.__name__)\n",
    "print(new_fibo.__doc__)"
   ]
  },
  {
   "cell_type": "markdown",
   "metadata": {},
   "source": [
    " * to solve the issue go to the wrapper function and assign `__name__` and `__doc__` as one of the decorated function's. \n",
    " * Alternatively use the `functools.wrap` module to make  it easier \n",
    " * Do the following \n",
    "    1. go to the wrapper function\n",
    "    2. uncomment the sections \n",
    "    3. re rurn the decoraded function's definition \n",
    "    4. run the follwoing code"
   ]
  },
  {
   "cell_type": "code",
   "execution_count": 107,
   "metadata": {},
   "outputs": [
    {
     "name": "stdout",
     "output_type": "stream",
     "text": [
      "new_fibo\n",
      "returns the nth fibonacci number\n"
     ]
    }
   ],
   "source": [
    "print(new_fibo.__name__)\n",
    "print(new_fibo.__doc__)"
   ]
  },
  {
   "cell_type": "markdown",
   "metadata": {},
   "source": [
    "## Challange\n",
    "\n",
    "Write `bold` and `italic` decorator and apply on a function such that, the the decorators will add correcponsding html syntax to the decorated function. "
   ]
  },
  {
   "cell_type": "code",
   "execution_count": 127,
   "metadata": {},
   "outputs": [],
   "source": [
    "# writing the decorators \n",
    "def bold(func):\n",
    "\n",
    "    @wraps(func)       # preserving the metadata\n",
    "    def inner(text):   # preserving the input parameters \n",
    "        return f'<b>{func(text)}</b>'   #decoration \n",
    "    return inner  \n",
    "\n",
    "def italic(func):\n",
    "\n",
    "    @wraps(func)\n",
    "    def inner(text):\n",
    "        return f'<i>{func(text)}</i>'\n",
    "    return inner  \n",
    "\n",
    "@bold                   # outer decoration = bold\n",
    "@italic                 # inner decoration = italic\n",
    "def test_func(text):     \n",
    "    '''prints a text given as arg'''\n",
    "    return(text)"
   ]
  },
  {
   "cell_type": "code",
   "execution_count": 128,
   "metadata": {},
   "outputs": [
    {
     "data": {
      "text/plain": [
       "'<b><i>hello world</i></b>'"
      ]
     },
     "execution_count": 128,
     "metadata": {},
     "output_type": "execute_result"
    }
   ],
   "source": [
    "test_func('hello world')"
   ]
  },
  {
   "cell_type": "markdown",
   "metadata": {},
   "source": [
    "## Decorators with arguments "
   ]
  },
  {
   "cell_type": "code",
   "execution_count": 133,
   "metadata": {},
   "outputs": [],
   "source": [
    "def str_len_sum(*args):\n",
    "    '''returns the sum of the srings' length entered as argument'''\n",
    "    sum = 0\n",
    "    for str in args:\n",
    "        sum += len(str)\n",
    "    return sum"
   ]
  },
  {
   "cell_type": "code",
   "execution_count": 134,
   "metadata": {},
   "outputs": [
    {
     "data": {
      "text/plain": [
       "0"
      ]
     },
     "execution_count": 134,
     "metadata": {},
     "output_type": "execute_result"
    }
   ],
   "source": [
    "str_len_sum()"
   ]
  },
  {
   "cell_type": "code",
   "execution_count": 135,
   "metadata": {},
   "outputs": [
    {
     "data": {
      "text/plain": [
       "10"
      ]
     },
     "execution_count": 135,
     "metadata": {},
     "output_type": "execute_result"
    }
   ],
   "source": [
    "str_len_sum('hello' 'world')"
   ]
  },
  {
   "cell_type": "code",
   "execution_count": null,
   "metadata": {},
   "outputs": [],
   "source": [
    "def star(func):\n",
    "    '''adds start before and after the output of the wrapped function'''\n",
    "    def wrapper(*args, **kwargs):\n",
    "        return f'*{func()}*'"
   ]
  },
  {
   "cell_type": "markdown",
   "metadata": {},
   "source": [
    "## Creating `time_it` decorator to time any function "
   ]
  },
  {
   "cell_type": "code",
   "execution_count": 144,
   "metadata": {},
   "outputs": [],
   "source": [
    "def time_it(func):\n",
    "    '''return execution time of a function func'''\n",
    "    @wraps(func)\n",
    "    def wrapper(*args, **kwargs):\n",
    "        import time\n",
    "        t = time.time()\n",
    "        temp = func(*args, **kwargs)\n",
    "        return time.time() - t\n",
    "    return wrapper\n",
    "\n",
    "@time_it\n",
    "def dummy_sleeper(t):\n",
    "    '''sleeps for t seconds'''\n",
    "    import time\n",
    "    print(f'sleeping for {t} secs....')\n",
    "    time.sleep(t)\n",
    "    print('done...')"
   ]
  },
  {
   "cell_type": "code",
   "execution_count": 145,
   "metadata": {},
   "outputs": [
    {
     "name": "stdout",
     "output_type": "stream",
     "text": [
      "sleeping for 3 secs....\n",
      "done...\n"
     ]
    },
    {
     "data": {
      "text/plain": [
       "3.014361619949341"
      ]
     },
     "execution_count": 145,
     "metadata": {},
     "output_type": "execute_result"
    }
   ],
   "source": [
    "dummy_sleeper(3)"
   ]
  },
  {
   "cell_type": "markdown",
   "metadata": {},
   "source": [
    "## Challange\n",
    "\n",
    "Write a `@munch` decorator that takes a function with 2 integers, _start_(inclusive) and _end_(exclusive). The decorator is applicable to any string returning function and munches the substring from _start_ to _end_ with 'X' "
   ]
  },
  {
   "cell_type": "code",
   "execution_count": 164,
   "metadata": {},
   "outputs": [],
   "source": [
    "def munch(start, end,ch):\n",
    "    def do_munch(func):\n",
    "        ''' munches substring from start to end by replcing char with ch'''\n",
    "        @wraps(func)\n",
    "        def wrapper(*args, **kwargs):\n",
    "            ret =''\n",
    "            res = func(*args, **kwargs)\n",
    "            for i in range(len(res)):\n",
    "                if i >= start and i<end and res[i] != ' ':\n",
    "                    ret+='X'\n",
    "                else:\n",
    "                    ret+=res[i]\n",
    "            return ret\n",
    "        return wrapper\n",
    "    return do_munch\n",
    "\n",
    "@munch(1,10,'x')\n",
    "def test_func(s):\n",
    "    '''returns the input string s'''\n",
    "    return s"
   ]
  },
  {
   "cell_type": "code",
   "execution_count": 165,
   "metadata": {},
   "outputs": [
    {
     "data": {
      "text/plain": [
       "'tXXX XX X test string'"
      ]
     },
     "execution_count": 165,
     "metadata": {},
     "output_type": "execute_result"
    }
   ],
   "source": [
    "test_func('this is a test string')"
   ]
  }
 ],
 "metadata": {
  "interpreter": {
   "hash": "54c72917cbc4e5d4bcbbae57e018ec8d32b0c2aba112d9ff1deac38e33bc39e3"
  },
  "kernelspec": {
   "display_name": "Python 3.9.7 64-bit",
   "name": "python3"
  },
  "language_info": {
   "codemirror_mode": {
    "name": "ipython",
    "version": 3
   },
   "file_extension": ".py",
   "mimetype": "text/x-python",
   "name": "python",
   "nbconvert_exporter": "python",
   "pygments_lexer": "ipython3",
   "version": "3.9.7"
  },
  "orig_nbformat": 4
 },
 "nbformat": 4,
 "nbformat_minor": 2
}
