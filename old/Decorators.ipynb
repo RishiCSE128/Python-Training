{
 "cells": [
  {
   "cell_type": "markdown",
   "source": [
    "# Decorators \r\n",
    "## Functions and inner-functions\r\n",
    "Lets create a function that prints the fibonnacci sequence "
   ],
   "metadata": {}
  },
  {
   "cell_type": "code",
   "execution_count": 96,
   "source": [
    "def fibo(n):\r\n",
    "    ''' print fibonacci'''\r\n",
    "    if n < 2:\r\n",
    "        return n\r\n",
    "    else:\r\n",
    "        return fibo(n-1) + fibo(n-2) "
   ],
   "outputs": [],
   "metadata": {}
  },
  {
   "cell_type": "code",
   "execution_count": 97,
   "source": [
    "for i in range(10):\r\n",
    "    print(f'{i}th fibonacci number is : {fibo(i)}')"
   ],
   "outputs": [
    {
     "output_type": "stream",
     "name": "stdout",
     "text": [
      "0th fibonacci number is : 0\n",
      "1th fibonacci number is : 1\n",
      "2th fibonacci number is : 1\n",
      "3th fibonacci number is : 2\n",
      "4th fibonacci number is : 3\n",
      "5th fibonacci number is : 5\n",
      "6th fibonacci number is : 8\n",
      "7th fibonacci number is : 13\n",
      "8th fibonacci number is : 21\n",
      "9th fibonacci number is : 34\n"
     ]
    }
   ],
   "metadata": {}
  },
  {
   "cell_type": "markdown",
   "source": [
    "Lets check the type of the `fibo(n)` function"
   ],
   "metadata": {}
  },
  {
   "cell_type": "code",
   "execution_count": 74,
   "source": [
    "type(fibo)"
   ],
   "outputs": [
    {
     "output_type": "execute_result",
     "data": {
      "text/plain": [
       "function"
      ]
     },
     "metadata": {},
     "execution_count": 74
    }
   ],
   "metadata": {}
  },
  {
   "cell_type": "code",
   "execution_count": 75,
   "source": [
    "type(fibo(1))"
   ],
   "outputs": [
    {
     "output_type": "execute_result",
     "data": {
      "text/plain": [
       "int"
      ]
     },
     "metadata": {},
     "execution_count": 75
    }
   ],
   "metadata": {}
  },
  {
   "cell_type": "markdown",
   "source": [
    "Now lets write a function within funtions, this is the basis of using Decorators. Notice that the vapiable passed into the enclosing function `fact_fibo` is local to the inner functions"
   ],
   "metadata": {}
  },
  {
   "cell_type": "code",
   "execution_count": 76,
   "source": [
    "def fact_fibo(n):\r\n",
    "    '''returns the factorial of the nth fibonacci number'''\r\n",
    "\r\n",
    "    def fact(n):\r\n",
    "        '''returns the factorial of n'''\r\n",
    "        if n == 1 :\r\n",
    "            return n\r\n",
    "        else:\r\n",
    "            return n*fact(n-1)\r\n",
    "    \r\n",
    "    def fibo(n):\r\n",
    "        '''returns the nth fibonacci number'''\r\n",
    "        if n<2:\r\n",
    "            return n\r\n",
    "        else:\r\n",
    "            return fibo(n-1) + fibo(n-2)\r\n",
    "\r\n",
    "    return fact(fibo(n))"
   ],
   "outputs": [],
   "metadata": {}
  },
  {
   "cell_type": "code",
   "execution_count": 77,
   "source": [
    "fact_fibo(5)"
   ],
   "outputs": [
    {
     "output_type": "execute_result",
     "data": {
      "text/plain": [
       "120"
      ]
     },
     "metadata": {},
     "execution_count": 77
    }
   ],
   "metadata": {}
  },
  {
   "cell_type": "markdown",
   "source": [
    "## Decorators\r\n",
    "\r\n",
    "Definition: _A decorator is a callable that takes another function as an argument, extending the behaviour of that function without explicitly modifying that function_\r\n",
    "* Decorators are particularly useful when applying changes to a large number of function. \r\n",
    "* The original function remains as it is, which relaxes the complexity. \r\n",
    "\r\n",
    "We now create a wrapper function that takes any interger returing function as input and returns its factorial"
   ],
   "metadata": {}
  },
  {
   "cell_type": "code",
   "execution_count": 138,
   "source": [
    "# base template:\r\n",
    "from functools import wraps\r\n",
    "\r\n",
    "def my_decor(func):\r\n",
    "    '''this is a decorator that takes a function object func as input'''\r\n",
    "    \r\n",
    "    @wraps(func)   #preserving metadata of the decorated function\r\n",
    "    def wrapper(*args, **kwargs):  # takes any argsuments (to resolve arg conflict with the decorated function)\r\n",
    "        '''this is the wrapper function'''\r\n",
    "        # do something here\r\n",
    "        result = func(*args, **kwargs)  # call the decorated function\r\n",
    "        # do something here \r\n",
    "        return result \r\n",
    "    return wrapper    # returning the wrapper function reference out \r\n",
    "\r\n",
    "@my_decor     #decorating   :    my_func = my_decor(my_func)\r\n",
    "def my_func(*args, **kwargs):\r\n",
    "    #define the function here \r\n",
    "    pass"
   ],
   "outputs": [],
   "metadata": {}
  },
  {
   "cell_type": "code",
   "execution_count": 103,
   "source": [
    "from functools import wraps\r\n",
    "\r\n",
    "def wrapper(func):\r\n",
    "    '''wraps a function func'''\r\n",
    "    @wraps(func)  #alters the metadata of the decorated by the param's \r\n",
    "    def _fibo():\r\n",
    "        return 'This is _fibo'\r\n",
    "    #_fibo.__name__ = func.__name__\r\n",
    "    #_fibo.__doc__ = func.__doc__\r\n",
    "    return _fibo"
   ],
   "outputs": [],
   "metadata": {}
  },
  {
   "cell_type": "code",
   "execution_count": 99,
   "source": [
    "# returns the ref to _fibo() function\r\n",
    "wrapper(fibo(5))"
   ],
   "outputs": [
    {
     "output_type": "execute_result",
     "data": {
      "text/plain": [
       "<function __main__.wrapper.<locals>._fibo()>"
      ]
     },
     "metadata": {},
     "execution_count": 99
    }
   ],
   "metadata": {}
  },
  {
   "cell_type": "code",
   "execution_count": 80,
   "source": [
    "fibo(5)"
   ],
   "outputs": [
    {
     "output_type": "execute_result",
     "data": {
      "text/plain": [
       "5"
      ]
     },
     "metadata": {},
     "execution_count": 80
    }
   ],
   "metadata": {}
  },
  {
   "cell_type": "code",
   "execution_count": 81,
   "source": [
    "wrapper(fibo(5))"
   ],
   "outputs": [
    {
     "output_type": "execute_result",
     "data": {
      "text/plain": [
       "<function __main__.wrapper.<locals>._fibo()>"
      ]
     },
     "metadata": {},
     "execution_count": 81
    }
   ],
   "metadata": {}
  },
  {
   "cell_type": "code",
   "execution_count": 82,
   "source": [
    "fibo = wrapper(fibo(5))   #reassigning the function pointer to fibo()"
   ],
   "outputs": [],
   "metadata": {}
  },
  {
   "cell_type": "code",
   "execution_count": 83,
   "source": [
    "fibo(5)  # the function _fibo has replaced fibo and _fibo() takes 0 argument"
   ],
   "outputs": [
    {
     "output_type": "error",
     "ename": "TypeError",
     "evalue": "_fibo() takes 0 positional arguments but 1 was given",
     "traceback": [
      "\u001b[1;31m---------------------------------------------------------------------------\u001b[0m",
      "\u001b[1;31mTypeError\u001b[0m                                 Traceback (most recent call last)",
      "\u001b[1;32m~\\AppData\\Local\\Temp/ipykernel_18200/3551427433.py\u001b[0m in \u001b[0;36m<module>\u001b[1;34m\u001b[0m\n\u001b[1;32m----> 1\u001b[1;33m \u001b[0mfibo\u001b[0m\u001b[1;33m(\u001b[0m\u001b[1;36m5\u001b[0m\u001b[1;33m)\u001b[0m  \u001b[1;31m# the function _fibo has replaced fibo and _fibo() takes 0 argument\u001b[0m\u001b[1;33m\u001b[0m\u001b[1;33m\u001b[0m\u001b[0m\n\u001b[0m",
      "\u001b[1;31mTypeError\u001b[0m: _fibo() takes 0 positional arguments but 1 was given"
     ]
    }
   ],
   "metadata": {}
  },
  {
   "cell_type": "code",
   "execution_count": 84,
   "source": [
    "fibo()"
   ],
   "outputs": [
    {
     "output_type": "execute_result",
     "data": {
      "text/plain": [
       "'This is _fibo'"
      ]
     },
     "metadata": {},
     "execution_count": 84
    }
   ],
   "metadata": {}
  },
  {
   "cell_type": "markdown",
   "source": [
    "The decorator simplifies the process by annotating a function with a decorator. "
   ],
   "metadata": {}
  },
  {
   "cell_type": "code",
   "execution_count": 105,
   "source": [
    "@wrapper                 \r\n",
    "def new_fibo(n):        #    new_fibo = wrapper(new_fibo(n))\r\n",
    "        '''returns the nth fibonacci number'''\r\n",
    "        if n<2:\r\n",
    "            return n\r\n",
    "        else:\r\n",
    "            return fibo(n-1) + fibo(n-2)"
   ],
   "outputs": [],
   "metadata": {}
  },
  {
   "cell_type": "code",
   "execution_count": 86,
   "source": [
    "new_fibo()"
   ],
   "outputs": [
    {
     "output_type": "execute_result",
     "data": {
      "text/plain": [
       "'This is _fibo'"
      ]
     },
     "metadata": {},
     "execution_count": 86
    }
   ],
   "metadata": {}
  },
  {
   "cell_type": "code",
   "execution_count": 87,
   "source": [
    "new_fibo"
   ],
   "outputs": [
    {
     "output_type": "execute_result",
     "data": {
      "text/plain": [
       "<function __main__.wrapper.<locals>._fibo()>"
      ]
     },
     "metadata": {},
     "execution_count": 87
    }
   ],
   "metadata": {}
  },
  {
   "cell_type": "markdown",
   "source": [
    "# Using @wrap \r\n",
    "\r\n",
    "*  when we decorate a function the metadata of the decorated function is replaced by the decorating fucntion. "
   ],
   "metadata": {}
  },
  {
   "cell_type": "code",
   "execution_count": 101,
   "source": [
    "# check the `__name__` and `__doc_` metadata of the new fibo is replaced by the one of _fibo() \r\n",
    "print(new_fibo.__name__)\r\n",
    "print(new_fibo.__doc__)"
   ],
   "outputs": [
    {
     "output_type": "stream",
     "name": "stdout",
     "text": [
      "_fibo\n",
      "None\n"
     ]
    }
   ],
   "metadata": {}
  },
  {
   "cell_type": "markdown",
   "source": [
    " * to solve the issue go to the wrapper function and assign `__name__` and `__doc__` as one of the decorated function's. \r\n",
    " * Alternatively use the `functools.wrap` module to make  it easier \r\n",
    " * Do the following \r\n",
    "    1. go to the wrapper function\r\n",
    "    2. uncomment the sections \r\n",
    "    3. re rurn the decoraded function's definition \r\n",
    "    4. run the follwoing code"
   ],
   "metadata": {}
  },
  {
   "cell_type": "code",
   "execution_count": 107,
   "source": [
    "print(new_fibo.__name__)\r\n",
    "print(new_fibo.__doc__)"
   ],
   "outputs": [
    {
     "output_type": "stream",
     "name": "stdout",
     "text": [
      "new_fibo\n",
      "returns the nth fibonacci number\n"
     ]
    }
   ],
   "metadata": {}
  },
  {
   "cell_type": "markdown",
   "source": [
    "## Challange\r\n",
    "\r\n",
    "Write `bold` and `italic` decorator and apply on a function such that, the the decorators will add correcponsding html syntax to the decorated function. "
   ],
   "metadata": {}
  },
  {
   "cell_type": "code",
   "execution_count": 127,
   "source": [
    "# writing the decorators \r\n",
    "def bold(func):\r\n",
    "\r\n",
    "    @wraps(func)       # preserving the metadata\r\n",
    "    def inner(text):   # preserving the input parameters \r\n",
    "        return f'<b>{func(text)}</b>'   #decoration \r\n",
    "    return inner  \r\n",
    "\r\n",
    "def italic(func):\r\n",
    "\r\n",
    "    @wraps(func)\r\n",
    "    def inner(text):\r\n",
    "        return f'<i>{func(text)}</i>'\r\n",
    "    return inner  \r\n",
    "\r\n",
    "@bold                   # outer decoration = bold\r\n",
    "@italic                 # inner decoration = italic\r\n",
    "def test_func(text):     \r\n",
    "    '''prints a text given as arg'''\r\n",
    "    return(text)"
   ],
   "outputs": [],
   "metadata": {}
  },
  {
   "cell_type": "code",
   "execution_count": 128,
   "source": [
    "test_func('hello world')"
   ],
   "outputs": [
    {
     "output_type": "execute_result",
     "data": {
      "text/plain": [
       "'<b><i>hello world</i></b>'"
      ]
     },
     "metadata": {},
     "execution_count": 128
    }
   ],
   "metadata": {}
  },
  {
   "cell_type": "markdown",
   "source": [
    "## Decorators with arguments "
   ],
   "metadata": {}
  },
  {
   "cell_type": "code",
   "execution_count": 133,
   "source": [
    "def str_len_sum(*args):\r\n",
    "    '''returns the sum of the srings' length entered as argument'''\r\n",
    "    sum = 0\r\n",
    "    for str in args:\r\n",
    "        sum += len(str)\r\n",
    "    return sum"
   ],
   "outputs": [],
   "metadata": {}
  },
  {
   "cell_type": "code",
   "execution_count": 134,
   "source": [
    "str_len_sum()"
   ],
   "outputs": [
    {
     "output_type": "execute_result",
     "data": {
      "text/plain": [
       "0"
      ]
     },
     "metadata": {},
     "execution_count": 134
    }
   ],
   "metadata": {}
  },
  {
   "cell_type": "code",
   "execution_count": 135,
   "source": [
    "str_len_sum('hello' 'world')"
   ],
   "outputs": [
    {
     "output_type": "execute_result",
     "data": {
      "text/plain": [
       "10"
      ]
     },
     "metadata": {},
     "execution_count": 135
    }
   ],
   "metadata": {}
  },
  {
   "cell_type": "code",
   "execution_count": null,
   "source": [
    "def star(func):\r\n",
    "    '''adds start before and after the output of the wrapped function'''\r\n",
    "    def wrapper(*args, **kwargs):\r\n",
    "        return f'*{func()}*'"
   ],
   "outputs": [],
   "metadata": {}
  },
  {
   "cell_type": "markdown",
   "source": [
    "## Creating `time_it` decorator to time any function "
   ],
   "metadata": {}
  },
  {
   "cell_type": "code",
   "execution_count": 144,
   "source": [
    "def time_it(func):\r\n",
    "    '''return execution time of a function func'''\r\n",
    "    @wraps(func)\r\n",
    "    def wrapper(*args, **kwargs):\r\n",
    "        import time\r\n",
    "        t = time.time()\r\n",
    "        temp = func(*args, **kwargs)\r\n",
    "        return time.time() - t\r\n",
    "    return wrapper\r\n",
    "\r\n",
    "@time_it\r\n",
    "def dummy_sleeper(t):\r\n",
    "    '''sleeps for t seconds'''\r\n",
    "    import time\r\n",
    "    print(f'sleeping for {t} secs....')\r\n",
    "    time.sleep(t)\r\n",
    "    print('done...')"
   ],
   "outputs": [],
   "metadata": {}
  },
  {
   "cell_type": "code",
   "execution_count": 145,
   "source": [
    "dummy_sleeper(3)"
   ],
   "outputs": [
    {
     "output_type": "stream",
     "name": "stdout",
     "text": [
      "sleeping for 3 secs....\n",
      "done...\n"
     ]
    },
    {
     "output_type": "execute_result",
     "data": {
      "text/plain": [
       "3.014361619949341"
      ]
     },
     "metadata": {},
     "execution_count": 145
    }
   ],
   "metadata": {}
  },
  {
   "cell_type": "markdown",
   "source": [
    "## Challange\r\n",
    "\r\n",
    "Write a `@munch` decorator that takes a function with 2 integers, _start_(inclusive) and _end_(exclusive). The decorator is applicable to any string returning function and munches the substring from _start_ to _end_ with 'X' "
   ],
   "metadata": {}
  },
  {
   "cell_type": "code",
   "execution_count": 164,
   "source": [
    "def munch(start, end,ch):\r\n",
    "    def do_munch(func):\r\n",
    "        ''' munches substring from start to end by replcing char with ch'''\r\n",
    "        @wraps(func)\r\n",
    "        def wrapper(*args, **kwargs):\r\n",
    "            ret =''\r\n",
    "            res = func(*args, **kwargs)\r\n",
    "            for i in range(len(res)):\r\n",
    "                if i >= start and i<end and res[i] != ' ':\r\n",
    "                    ret+='X'\r\n",
    "                else:\r\n",
    "                    ret+=res[i]\r\n",
    "            return ret\r\n",
    "        return wrapper\r\n",
    "    return do_munch\r\n",
    "\r\n",
    "@munch(1,10,'x')\r\n",
    "def test_func(s):\r\n",
    "    '''returns the input string s'''\r\n",
    "    return s"
   ],
   "outputs": [],
   "metadata": {}
  },
  {
   "cell_type": "code",
   "execution_count": 165,
   "source": [
    "test_func('this is a test string')"
   ],
   "outputs": [
    {
     "output_type": "execute_result",
     "data": {
      "text/plain": [
       "'tXXX XX X test string'"
      ]
     },
     "metadata": {},
     "execution_count": 165
    }
   ],
   "metadata": {}
  }
 ],
 "metadata": {
  "orig_nbformat": 4,
  "language_info": {
   "name": "python",
   "version": "3.9.7",
   "mimetype": "text/x-python",
   "codemirror_mode": {
    "name": "ipython",
    "version": 3
   },
   "pygments_lexer": "ipython3",
   "nbconvert_exporter": "python",
   "file_extension": ".py"
  },
  "kernelspec": {
   "name": "python3",
   "display_name": "Python 3.9.7 64-bit"
  },
  "interpreter": {
   "hash": "54c72917cbc4e5d4bcbbae57e018ec8d32b0c2aba112d9ff1deac38e33bc39e3"
  }
 },
 "nbformat": 4,
 "nbformat_minor": 2
}