{
 "cells": [
  {
   "cell_type": "markdown",
   "source": [
    "# Introduction to Serialization \r\n",
    "\r\n",
    "Computers uses bits to store and transfer data, when communicating between peers, program needs to convert its data structures into a bit/byte stream. The process is called __Serialization__ the reverse process is called __Deserialization__. \r\n",
    "\r\n",
    "Common Serialization formats are, JSON, YAML, XML, TOML, HDF5 and Pickle. Picking appripreate data serialization format is critical. "
   ],
   "metadata": {}
  },
  {
   "cell_type": "markdown",
   "source": [
    "# Serilization overview \r\n",
    "\r\n",
    "## Why we need serialization ? \r\n",
    "* Serialization in Python is a process of convering a Python object into a bit stream. \r\n",
    "* There are multiple Serialization format that might be used e.g. JSON, XML, YML etc. \r\n",
    "* Serialization is done at the edge of your program where sockets are implemented. \r\n",
    "\r\n",
    "## Picking a serialization format\r\n",
    "\r\n",
    "1. How __mature__ is the format ? \r\n",
    "2. How many programming __language support__ this format ? \r\n",
    "3. __Data type__ supported. (e.g. JSON does not have a Date/Time format )\r\n",
    "4. How does the __Schema__ look like?\r\n",
    "6. Performance. \r\n",
    "7. Standard library suport. \r\n",
    "\r\n",
    "## General Serialization Rule \r\n",
    "\r\n",
    "1. Design and document your data structure and decide do you need serialization? \r\n",
    "2. Serialize at the edge only. \r\n",
    "3. Some serialization format is secure than other, but no format is absolutely secure. \r\n",
    "4. Learn rules of a format before using it.  (e.g. JSON does not have a Touple type)\r\n",
    "5. Decouple internal data-structure from serialized external once. "
   ],
   "metadata": {}
  },
  {
   "cell_type": "markdown",
   "source": [
    "## Common Serialization format\r\n",
    "\r\n",
    "| Format | Basic comments | \r\n",
    "|---|---|\r\n",
    "| __Pickle__ | python to python communication. | \r\n",
    "| __Json__ | All-String format. No comment | \r\n",
    "| __YAML__ / __TOML__ | More useful for config files, support wider data types than JSON, and comments | \r\n",
    "| __CSV__ / __XML__ | Used for tabular prepresentation | \r\n",
    "| __magpack__ / __BSON__ | binary JSON | \r\n",
    "| __Protobuf__ | binary format | "
   ],
   "metadata": {}
  },
  {
   "cell_type": "markdown",
   "source": [
    "./"
   ],
   "metadata": {}
  }
 ],
 "metadata": {
  "orig_nbformat": 4,
  "language_info": {
   "name": "python",
   "version": "3.9.7",
   "mimetype": "text/x-python",
   "codemirror_mode": {
    "name": "ipython",
    "version": 3
   },
   "pygments_lexer": "ipython3",
   "nbconvert_exporter": "python",
   "file_extension": ".py"
  },
  "kernelspec": {
   "name": "python3",
   "display_name": "Python 3.9.7 64-bit"
  },
  "interpreter": {
   "hash": "54c72917cbc4e5d4bcbbae57e018ec8d32b0c2aba112d9ff1deac38e33bc39e3"
  }
 },
 "nbformat": 4,
 "nbformat_minor": 2
}